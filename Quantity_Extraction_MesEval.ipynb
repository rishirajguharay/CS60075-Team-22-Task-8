{
  "nbformat": 4,
  "nbformat_minor": 0,
  "metadata": {
    "accelerator": "GPU",
    "colab": {
      "name": "Quantity_Extraction_MesEval.ipynb",
      "provenance": [],
      "collapsed_sections": []
    },
    "kernelspec": {
      "display_name": "Python 3",
      "language": "python",
      "name": "python3"
    },
    "language_info": {
      "codemirror_mode": {
        "name": "ipython",
        "version": 3
      },
      "file_extension": ".py",
      "mimetype": "text/x-python",
      "name": "python",
      "nbconvert_exporter": "python",
      "pygments_lexer": "ipython3",
      "version": "3.9.0"
    },
    "widgets": {
      "application/vnd.jupyter.widget-state+json": {
        "3623db05ed5c411dbe03a288465db4de": {
          "model_module": "@jupyter-widgets/controls",
          "model_name": "HBoxModel",
          "state": {
            "_view_name": "HBoxView",
            "_dom_classes": [],
            "_model_name": "HBoxModel",
            "_view_module": "@jupyter-widgets/controls",
            "_model_module_version": "1.5.0",
            "_view_count": null,
            "_view_module_version": "1.5.0",
            "box_style": "",
            "layout": "IPY_MODEL_c112e697adf443ccacf511e92df5a802",
            "_model_module": "@jupyter-widgets/controls",
            "children": [
              "IPY_MODEL_f589e86126ae485e9c2a9d4b5a49c217",
              "IPY_MODEL_c5d5fbb2d3684c29a88b7342cef0c240"
            ]
          }
        },
        "c112e697adf443ccacf511e92df5a802": {
          "model_module": "@jupyter-widgets/base",
          "model_name": "LayoutModel",
          "state": {
            "_view_name": "LayoutView",
            "grid_template_rows": null,
            "right": null,
            "justify_content": null,
            "_view_module": "@jupyter-widgets/base",
            "overflow": null,
            "_model_module_version": "1.2.0",
            "_view_count": null,
            "flex_flow": null,
            "width": null,
            "min_width": null,
            "border": null,
            "align_items": null,
            "bottom": null,
            "_model_module": "@jupyter-widgets/base",
            "top": null,
            "grid_column": null,
            "overflow_y": null,
            "overflow_x": null,
            "grid_auto_flow": null,
            "grid_area": null,
            "grid_template_columns": null,
            "flex": null,
            "_model_name": "LayoutModel",
            "justify_items": null,
            "grid_row": null,
            "max_height": null,
            "align_content": null,
            "visibility": null,
            "align_self": null,
            "height": null,
            "min_height": null,
            "padding": null,
            "grid_auto_rows": null,
            "grid_gap": null,
            "max_width": null,
            "order": null,
            "_view_module_version": "1.2.0",
            "grid_template_areas": null,
            "object_position": null,
            "object_fit": null,
            "grid_auto_columns": null,
            "margin": null,
            "display": null,
            "left": null
          }
        },
        "f589e86126ae485e9c2a9d4b5a49c217": {
          "model_module": "@jupyter-widgets/controls",
          "model_name": "FloatProgressModel",
          "state": {
            "_view_name": "ProgressView",
            "style": "IPY_MODEL_21d2a9ed055542ec95d855ee468eedfb",
            "_dom_classes": [],
            "description": "Downloading: 100%",
            "_model_name": "FloatProgressModel",
            "bar_style": "success",
            "max": 227845,
            "_view_module": "@jupyter-widgets/controls",
            "_model_module_version": "1.5.0",
            "value": 227845,
            "_view_count": null,
            "_view_module_version": "1.5.0",
            "orientation": "horizontal",
            "min": 0,
            "description_tooltip": null,
            "_model_module": "@jupyter-widgets/controls",
            "layout": "IPY_MODEL_b469a933845f4c3bbfe0da8223514445"
          }
        },
        "c5d5fbb2d3684c29a88b7342cef0c240": {
          "model_module": "@jupyter-widgets/controls",
          "model_name": "HTMLModel",
          "state": {
            "_view_name": "HTMLView",
            "style": "IPY_MODEL_4f2d6e91af8246a18075f46fdf4cd136",
            "_dom_classes": [],
            "description": "",
            "_model_name": "HTMLModel",
            "placeholder": "​",
            "_view_module": "@jupyter-widgets/controls",
            "_model_module_version": "1.5.0",
            "value": " 228k/228k [00:00&lt;00:00, 2.91MB/s]",
            "_view_count": null,
            "_view_module_version": "1.5.0",
            "description_tooltip": null,
            "_model_module": "@jupyter-widgets/controls",
            "layout": "IPY_MODEL_9221edc60c5b4a1ea64b6b93b6f38289"
          }
        },
        "21d2a9ed055542ec95d855ee468eedfb": {
          "model_module": "@jupyter-widgets/controls",
          "model_name": "ProgressStyleModel",
          "state": {
            "_view_name": "StyleView",
            "_model_name": "ProgressStyleModel",
            "description_width": "initial",
            "_view_module": "@jupyter-widgets/base",
            "_model_module_version": "1.5.0",
            "_view_count": null,
            "_view_module_version": "1.2.0",
            "bar_color": null,
            "_model_module": "@jupyter-widgets/controls"
          }
        },
        "b469a933845f4c3bbfe0da8223514445": {
          "model_module": "@jupyter-widgets/base",
          "model_name": "LayoutModel",
          "state": {
            "_view_name": "LayoutView",
            "grid_template_rows": null,
            "right": null,
            "justify_content": null,
            "_view_module": "@jupyter-widgets/base",
            "overflow": null,
            "_model_module_version": "1.2.0",
            "_view_count": null,
            "flex_flow": null,
            "width": null,
            "min_width": null,
            "border": null,
            "align_items": null,
            "bottom": null,
            "_model_module": "@jupyter-widgets/base",
            "top": null,
            "grid_column": null,
            "overflow_y": null,
            "overflow_x": null,
            "grid_auto_flow": null,
            "grid_area": null,
            "grid_template_columns": null,
            "flex": null,
            "_model_name": "LayoutModel",
            "justify_items": null,
            "grid_row": null,
            "max_height": null,
            "align_content": null,
            "visibility": null,
            "align_self": null,
            "height": null,
            "min_height": null,
            "padding": null,
            "grid_auto_rows": null,
            "grid_gap": null,
            "max_width": null,
            "order": null,
            "_view_module_version": "1.2.0",
            "grid_template_areas": null,
            "object_position": null,
            "object_fit": null,
            "grid_auto_columns": null,
            "margin": null,
            "display": null,
            "left": null
          }
        },
        "4f2d6e91af8246a18075f46fdf4cd136": {
          "model_module": "@jupyter-widgets/controls",
          "model_name": "DescriptionStyleModel",
          "state": {
            "_view_name": "StyleView",
            "_model_name": "DescriptionStyleModel",
            "description_width": "",
            "_view_module": "@jupyter-widgets/base",
            "_model_module_version": "1.5.0",
            "_view_count": null,
            "_view_module_version": "1.2.0",
            "_model_module": "@jupyter-widgets/controls"
          }
        },
        "9221edc60c5b4a1ea64b6b93b6f38289": {
          "model_module": "@jupyter-widgets/base",
          "model_name": "LayoutModel",
          "state": {
            "_view_name": "LayoutView",
            "grid_template_rows": null,
            "right": null,
            "justify_content": null,
            "_view_module": "@jupyter-widgets/base",
            "overflow": null,
            "_model_module_version": "1.2.0",
            "_view_count": null,
            "flex_flow": null,
            "width": null,
            "min_width": null,
            "border": null,
            "align_items": null,
            "bottom": null,
            "_model_module": "@jupyter-widgets/base",
            "top": null,
            "grid_column": null,
            "overflow_y": null,
            "overflow_x": null,
            "grid_auto_flow": null,
            "grid_area": null,
            "grid_template_columns": null,
            "flex": null,
            "_model_name": "LayoutModel",
            "justify_items": null,
            "grid_row": null,
            "max_height": null,
            "align_content": null,
            "visibility": null,
            "align_self": null,
            "height": null,
            "min_height": null,
            "padding": null,
            "grid_auto_rows": null,
            "grid_gap": null,
            "max_width": null,
            "order": null,
            "_view_module_version": "1.2.0",
            "grid_template_areas": null,
            "object_position": null,
            "object_fit": null,
            "grid_auto_columns": null,
            "margin": null,
            "display": null,
            "left": null
          }
        },
        "24169cbe28db4dc7adc7fa65a73d2702": {
          "model_module": "@jupyter-widgets/controls",
          "model_name": "HBoxModel",
          "state": {
            "_view_name": "HBoxView",
            "_dom_classes": [],
            "_model_name": "HBoxModel",
            "_view_module": "@jupyter-widgets/controls",
            "_model_module_version": "1.5.0",
            "_view_count": null,
            "_view_module_version": "1.5.0",
            "box_style": "",
            "layout": "IPY_MODEL_61c86e05866b497a9e7627e6a19b2ccb",
            "_model_module": "@jupyter-widgets/controls",
            "children": [
              "IPY_MODEL_7cdd949a89d2470ba808093f7b04bba4",
              "IPY_MODEL_0e14eb95c95f46f1b7426a63bdd6a208"
            ]
          }
        },
        "61c86e05866b497a9e7627e6a19b2ccb": {
          "model_module": "@jupyter-widgets/base",
          "model_name": "LayoutModel",
          "state": {
            "_view_name": "LayoutView",
            "grid_template_rows": null,
            "right": null,
            "justify_content": null,
            "_view_module": "@jupyter-widgets/base",
            "overflow": null,
            "_model_module_version": "1.2.0",
            "_view_count": null,
            "flex_flow": null,
            "width": null,
            "min_width": null,
            "border": null,
            "align_items": null,
            "bottom": null,
            "_model_module": "@jupyter-widgets/base",
            "top": null,
            "grid_column": null,
            "overflow_y": null,
            "overflow_x": null,
            "grid_auto_flow": null,
            "grid_area": null,
            "grid_template_columns": null,
            "flex": null,
            "_model_name": "LayoutModel",
            "justify_items": null,
            "grid_row": null,
            "max_height": null,
            "align_content": null,
            "visibility": null,
            "align_self": null,
            "height": null,
            "min_height": null,
            "padding": null,
            "grid_auto_rows": null,
            "grid_gap": null,
            "max_width": null,
            "order": null,
            "_view_module_version": "1.2.0",
            "grid_template_areas": null,
            "object_position": null,
            "object_fit": null,
            "grid_auto_columns": null,
            "margin": null,
            "display": null,
            "left": null
          }
        },
        "7cdd949a89d2470ba808093f7b04bba4": {
          "model_module": "@jupyter-widgets/controls",
          "model_name": "FloatProgressModel",
          "state": {
            "_view_name": "ProgressView",
            "style": "IPY_MODEL_68abf6eec27c426a9eb48e727eba050c",
            "_dom_classes": [],
            "description": "Downloading: 100%",
            "_model_name": "FloatProgressModel",
            "bar_style": "success",
            "max": 385,
            "_view_module": "@jupyter-widgets/controls",
            "_model_module_version": "1.5.0",
            "value": 385,
            "_view_count": null,
            "_view_module_version": "1.5.0",
            "orientation": "horizontal",
            "min": 0,
            "description_tooltip": null,
            "_model_module": "@jupyter-widgets/controls",
            "layout": "IPY_MODEL_ee99ea83ec4f4a23a8fc44377fb1f133"
          }
        },
        "0e14eb95c95f46f1b7426a63bdd6a208": {
          "model_module": "@jupyter-widgets/controls",
          "model_name": "HTMLModel",
          "state": {
            "_view_name": "HTMLView",
            "style": "IPY_MODEL_8f7f542d0bfc4ddab2b60eabb69febc3",
            "_dom_classes": [],
            "description": "",
            "_model_name": "HTMLModel",
            "placeholder": "​",
            "_view_module": "@jupyter-widgets/controls",
            "_model_module_version": "1.5.0",
            "value": " 385/385 [00:00&lt;00:00, 433B/s]",
            "_view_count": null,
            "_view_module_version": "1.5.0",
            "description_tooltip": null,
            "_model_module": "@jupyter-widgets/controls",
            "layout": "IPY_MODEL_3d9771aa789349a1826c93412acb67bb"
          }
        },
        "68abf6eec27c426a9eb48e727eba050c": {
          "model_module": "@jupyter-widgets/controls",
          "model_name": "ProgressStyleModel",
          "state": {
            "_view_name": "StyleView",
            "_model_name": "ProgressStyleModel",
            "description_width": "initial",
            "_view_module": "@jupyter-widgets/base",
            "_model_module_version": "1.5.0",
            "_view_count": null,
            "_view_module_version": "1.2.0",
            "bar_color": null,
            "_model_module": "@jupyter-widgets/controls"
          }
        },
        "ee99ea83ec4f4a23a8fc44377fb1f133": {
          "model_module": "@jupyter-widgets/base",
          "model_name": "LayoutModel",
          "state": {
            "_view_name": "LayoutView",
            "grid_template_rows": null,
            "right": null,
            "justify_content": null,
            "_view_module": "@jupyter-widgets/base",
            "overflow": null,
            "_model_module_version": "1.2.0",
            "_view_count": null,
            "flex_flow": null,
            "width": null,
            "min_width": null,
            "border": null,
            "align_items": null,
            "bottom": null,
            "_model_module": "@jupyter-widgets/base",
            "top": null,
            "grid_column": null,
            "overflow_y": null,
            "overflow_x": null,
            "grid_auto_flow": null,
            "grid_area": null,
            "grid_template_columns": null,
            "flex": null,
            "_model_name": "LayoutModel",
            "justify_items": null,
            "grid_row": null,
            "max_height": null,
            "align_content": null,
            "visibility": null,
            "align_self": null,
            "height": null,
            "min_height": null,
            "padding": null,
            "grid_auto_rows": null,
            "grid_gap": null,
            "max_width": null,
            "order": null,
            "_view_module_version": "1.2.0",
            "grid_template_areas": null,
            "object_position": null,
            "object_fit": null,
            "grid_auto_columns": null,
            "margin": null,
            "display": null,
            "left": null
          }
        },
        "8f7f542d0bfc4ddab2b60eabb69febc3": {
          "model_module": "@jupyter-widgets/controls",
          "model_name": "DescriptionStyleModel",
          "state": {
            "_view_name": "StyleView",
            "_model_name": "DescriptionStyleModel",
            "description_width": "",
            "_view_module": "@jupyter-widgets/base",
            "_model_module_version": "1.5.0",
            "_view_count": null,
            "_view_module_version": "1.2.0",
            "_model_module": "@jupyter-widgets/controls"
          }
        },
        "3d9771aa789349a1826c93412acb67bb": {
          "model_module": "@jupyter-widgets/base",
          "model_name": "LayoutModel",
          "state": {
            "_view_name": "LayoutView",
            "grid_template_rows": null,
            "right": null,
            "justify_content": null,
            "_view_module": "@jupyter-widgets/base",
            "overflow": null,
            "_model_module_version": "1.2.0",
            "_view_count": null,
            "flex_flow": null,
            "width": null,
            "min_width": null,
            "border": null,
            "align_items": null,
            "bottom": null,
            "_model_module": "@jupyter-widgets/base",
            "top": null,
            "grid_column": null,
            "overflow_y": null,
            "overflow_x": null,
            "grid_auto_flow": null,
            "grid_area": null,
            "grid_template_columns": null,
            "flex": null,
            "_model_name": "LayoutModel",
            "justify_items": null,
            "grid_row": null,
            "max_height": null,
            "align_content": null,
            "visibility": null,
            "align_self": null,
            "height": null,
            "min_height": null,
            "padding": null,
            "grid_auto_rows": null,
            "grid_gap": null,
            "max_width": null,
            "order": null,
            "_view_module_version": "1.2.0",
            "grid_template_areas": null,
            "object_position": null,
            "object_fit": null,
            "grid_auto_columns": null,
            "margin": null,
            "display": null,
            "left": null
          }
        },
        "913cd621172b4382a0d9927dad476d1d": {
          "model_module": "@jupyter-widgets/controls",
          "model_name": "HBoxModel",
          "state": {
            "_view_name": "HBoxView",
            "_dom_classes": [],
            "_model_name": "HBoxModel",
            "_view_module": "@jupyter-widgets/controls",
            "_model_module_version": "1.5.0",
            "_view_count": null,
            "_view_module_version": "1.5.0",
            "box_style": "",
            "layout": "IPY_MODEL_b45a5d18de7e4fd392045b68315cfb50",
            "_model_module": "@jupyter-widgets/controls",
            "children": [
              "IPY_MODEL_4da4b50cdf2245c1807068f4b442b90e",
              "IPY_MODEL_46e133ccbdd645a2b2c18bf8d9aa3928"
            ]
          }
        },
        "b45a5d18de7e4fd392045b68315cfb50": {
          "model_module": "@jupyter-widgets/base",
          "model_name": "LayoutModel",
          "state": {
            "_view_name": "LayoutView",
            "grid_template_rows": null,
            "right": null,
            "justify_content": null,
            "_view_module": "@jupyter-widgets/base",
            "overflow": null,
            "_model_module_version": "1.2.0",
            "_view_count": null,
            "flex_flow": null,
            "width": null,
            "min_width": null,
            "border": null,
            "align_items": null,
            "bottom": null,
            "_model_module": "@jupyter-widgets/base",
            "top": null,
            "grid_column": null,
            "overflow_y": null,
            "overflow_x": null,
            "grid_auto_flow": null,
            "grid_area": null,
            "grid_template_columns": null,
            "flex": null,
            "_model_name": "LayoutModel",
            "justify_items": null,
            "grid_row": null,
            "max_height": null,
            "align_content": null,
            "visibility": null,
            "align_self": null,
            "height": null,
            "min_height": null,
            "padding": null,
            "grid_auto_rows": null,
            "grid_gap": null,
            "max_width": null,
            "order": null,
            "_view_module_version": "1.2.0",
            "grid_template_areas": null,
            "object_position": null,
            "object_fit": null,
            "grid_auto_columns": null,
            "margin": null,
            "display": null,
            "left": null
          }
        },
        "4da4b50cdf2245c1807068f4b442b90e": {
          "model_module": "@jupyter-widgets/controls",
          "model_name": "FloatProgressModel",
          "state": {
            "_view_name": "ProgressView",
            "style": "IPY_MODEL_75da8e3e0d6144f8baa186e1cb04c056",
            "_dom_classes": [],
            "description": "Downloading: 100%",
            "_model_name": "FloatProgressModel",
            "bar_style": "success",
            "max": 442221694,
            "_view_module": "@jupyter-widgets/controls",
            "_model_module_version": "1.5.0",
            "value": 442221694,
            "_view_count": null,
            "_view_module_version": "1.5.0",
            "orientation": "horizontal",
            "min": 0,
            "description_tooltip": null,
            "_model_module": "@jupyter-widgets/controls",
            "layout": "IPY_MODEL_cf6206f4710440b2bde4f763ac8b7719"
          }
        },
        "46e133ccbdd645a2b2c18bf8d9aa3928": {
          "model_module": "@jupyter-widgets/controls",
          "model_name": "HTMLModel",
          "state": {
            "_view_name": "HTMLView",
            "style": "IPY_MODEL_c50a70813c0b40f085dead83093e4859",
            "_dom_classes": [],
            "description": "",
            "_model_name": "HTMLModel",
            "placeholder": "​",
            "_view_module": "@jupyter-widgets/controls",
            "_model_module_version": "1.5.0",
            "value": " 442M/442M [00:10&lt;00:00, 43.7MB/s]",
            "_view_count": null,
            "_view_module_version": "1.5.0",
            "description_tooltip": null,
            "_model_module": "@jupyter-widgets/controls",
            "layout": "IPY_MODEL_06a4f825ca4c4f8b9f8a60d827225805"
          }
        },
        "75da8e3e0d6144f8baa186e1cb04c056": {
          "model_module": "@jupyter-widgets/controls",
          "model_name": "ProgressStyleModel",
          "state": {
            "_view_name": "StyleView",
            "_model_name": "ProgressStyleModel",
            "description_width": "initial",
            "_view_module": "@jupyter-widgets/base",
            "_model_module_version": "1.5.0",
            "_view_count": null,
            "_view_module_version": "1.2.0",
            "bar_color": null,
            "_model_module": "@jupyter-widgets/controls"
          }
        },
        "cf6206f4710440b2bde4f763ac8b7719": {
          "model_module": "@jupyter-widgets/base",
          "model_name": "LayoutModel",
          "state": {
            "_view_name": "LayoutView",
            "grid_template_rows": null,
            "right": null,
            "justify_content": null,
            "_view_module": "@jupyter-widgets/base",
            "overflow": null,
            "_model_module_version": "1.2.0",
            "_view_count": null,
            "flex_flow": null,
            "width": null,
            "min_width": null,
            "border": null,
            "align_items": null,
            "bottom": null,
            "_model_module": "@jupyter-widgets/base",
            "top": null,
            "grid_column": null,
            "overflow_y": null,
            "overflow_x": null,
            "grid_auto_flow": null,
            "grid_area": null,
            "grid_template_columns": null,
            "flex": null,
            "_model_name": "LayoutModel",
            "justify_items": null,
            "grid_row": null,
            "max_height": null,
            "align_content": null,
            "visibility": null,
            "align_self": null,
            "height": null,
            "min_height": null,
            "padding": null,
            "grid_auto_rows": null,
            "grid_gap": null,
            "max_width": null,
            "order": null,
            "_view_module_version": "1.2.0",
            "grid_template_areas": null,
            "object_position": null,
            "object_fit": null,
            "grid_auto_columns": null,
            "margin": null,
            "display": null,
            "left": null
          }
        },
        "c50a70813c0b40f085dead83093e4859": {
          "model_module": "@jupyter-widgets/controls",
          "model_name": "DescriptionStyleModel",
          "state": {
            "_view_name": "StyleView",
            "_model_name": "DescriptionStyleModel",
            "description_width": "",
            "_view_module": "@jupyter-widgets/base",
            "_model_module_version": "1.5.0",
            "_view_count": null,
            "_view_module_version": "1.2.0",
            "_model_module": "@jupyter-widgets/controls"
          }
        },
        "06a4f825ca4c4f8b9f8a60d827225805": {
          "model_module": "@jupyter-widgets/base",
          "model_name": "LayoutModel",
          "state": {
            "_view_name": "LayoutView",
            "grid_template_rows": null,
            "right": null,
            "justify_content": null,
            "_view_module": "@jupyter-widgets/base",
            "overflow": null,
            "_model_module_version": "1.2.0",
            "_view_count": null,
            "flex_flow": null,
            "width": null,
            "min_width": null,
            "border": null,
            "align_items": null,
            "bottom": null,
            "_model_module": "@jupyter-widgets/base",
            "top": null,
            "grid_column": null,
            "overflow_y": null,
            "overflow_x": null,
            "grid_auto_flow": null,
            "grid_area": null,
            "grid_template_columns": null,
            "flex": null,
            "_model_name": "LayoutModel",
            "justify_items": null,
            "grid_row": null,
            "max_height": null,
            "align_content": null,
            "visibility": null,
            "align_self": null,
            "height": null,
            "min_height": null,
            "padding": null,
            "grid_auto_rows": null,
            "grid_gap": null,
            "max_width": null,
            "order": null,
            "_view_module_version": "1.2.0",
            "grid_template_areas": null,
            "object_position": null,
            "object_fit": null,
            "grid_auto_columns": null,
            "margin": null,
            "display": null,
            "left": null
          }
        }
      }
    }
  },
  "cells": [
    {
      "cell_type": "code",
      "metadata": {
        "colab": {
          "base_uri": "https://localhost:8080/"
        },
        "id": "h6lSThy35bnj",
        "outputId": "551a91b2-7083-46a1-9eab-48762c81d41c"
      },
      "source": [
        "!pip install transformers\n",
        "!pip install nltk\n",
        "!pip install sentencepiece\n",
        "!pip install pytorch-crf"
      ],
      "execution_count": 1,
      "outputs": [
        {
          "output_type": "stream",
          "text": [
            "Collecting transformers\n",
            "\u001b[?25l  Downloading https://files.pythonhosted.org/packages/81/91/61d69d58a1af1bd81d9ca9d62c90a6de3ab80d77f27c5df65d9a2c1f5626/transformers-4.5.0-py3-none-any.whl (2.1MB)\n",
            "\u001b[K     |████████████████████████████████| 2.2MB 18.6MB/s \n",
            "\u001b[?25hRequirement already satisfied: numpy>=1.17 in /usr/local/lib/python3.7/dist-packages (from transformers) (1.19.5)\n",
            "Requirement already satisfied: filelock in /usr/local/lib/python3.7/dist-packages (from transformers) (3.0.12)\n",
            "Requirement already satisfied: packaging in /usr/local/lib/python3.7/dist-packages (from transformers) (20.9)\n",
            "Requirement already satisfied: importlib-metadata; python_version < \"3.8\" in /usr/local/lib/python3.7/dist-packages (from transformers) (3.8.1)\n",
            "Collecting tokenizers<0.11,>=0.10.1\n",
            "\u001b[?25l  Downloading https://files.pythonhosted.org/packages/ae/04/5b870f26a858552025a62f1649c20d29d2672c02ff3c3fb4c688ca46467a/tokenizers-0.10.2-cp37-cp37m-manylinux2010_x86_64.whl (3.3MB)\n",
            "\u001b[K     |████████████████████████████████| 3.3MB 53.8MB/s \n",
            "\u001b[?25hCollecting sacremoses\n",
            "\u001b[?25l  Downloading https://files.pythonhosted.org/packages/08/cd/342e584ee544d044fb573ae697404ce22ede086c9e87ce5960772084cad0/sacremoses-0.0.44.tar.gz (862kB)\n",
            "\u001b[K     |████████████████████████████████| 870kB 46.5MB/s \n",
            "\u001b[?25hRequirement already satisfied: regex!=2019.12.17 in /usr/local/lib/python3.7/dist-packages (from transformers) (2019.12.20)\n",
            "Requirement already satisfied: tqdm>=4.27 in /usr/local/lib/python3.7/dist-packages (from transformers) (4.41.1)\n",
            "Requirement already satisfied: requests in /usr/local/lib/python3.7/dist-packages (from transformers) (2.23.0)\n",
            "Requirement already satisfied: pyparsing>=2.0.2 in /usr/local/lib/python3.7/dist-packages (from packaging->transformers) (2.4.7)\n",
            "Requirement already satisfied: zipp>=0.5 in /usr/local/lib/python3.7/dist-packages (from importlib-metadata; python_version < \"3.8\"->transformers) (3.4.1)\n",
            "Requirement already satisfied: typing-extensions>=3.6.4; python_version < \"3.8\" in /usr/local/lib/python3.7/dist-packages (from importlib-metadata; python_version < \"3.8\"->transformers) (3.7.4.3)\n",
            "Requirement already satisfied: six in /usr/local/lib/python3.7/dist-packages (from sacremoses->transformers) (1.15.0)\n",
            "Requirement already satisfied: click in /usr/local/lib/python3.7/dist-packages (from sacremoses->transformers) (7.1.2)\n",
            "Requirement already satisfied: joblib in /usr/local/lib/python3.7/dist-packages (from sacremoses->transformers) (1.0.1)\n",
            "Requirement already satisfied: chardet<4,>=3.0.2 in /usr/local/lib/python3.7/dist-packages (from requests->transformers) (3.0.4)\n",
            "Requirement already satisfied: idna<3,>=2.5 in /usr/local/lib/python3.7/dist-packages (from requests->transformers) (2.10)\n",
            "Requirement already satisfied: certifi>=2017.4.17 in /usr/local/lib/python3.7/dist-packages (from requests->transformers) (2020.12.5)\n",
            "Requirement already satisfied: urllib3!=1.25.0,!=1.25.1,<1.26,>=1.21.1 in /usr/local/lib/python3.7/dist-packages (from requests->transformers) (1.24.3)\n",
            "Building wheels for collected packages: sacremoses\n",
            "  Building wheel for sacremoses (setup.py) ... \u001b[?25l\u001b[?25hdone\n",
            "  Created wheel for sacremoses: filename=sacremoses-0.0.44-cp37-none-any.whl size=886084 sha256=b7925441aeb99b3e7090fc7e5d6879e353ee857e441f89a93d19de9d95dafaca\n",
            "  Stored in directory: /root/.cache/pip/wheels/3e/fb/c0/13ab4d63d537658f448366744654323077c4d90069b6512f3c\n",
            "Successfully built sacremoses\n",
            "Installing collected packages: tokenizers, sacremoses, transformers\n",
            "Successfully installed sacremoses-0.0.44 tokenizers-0.10.2 transformers-4.5.0\n",
            "Requirement already satisfied: nltk in /usr/local/lib/python3.7/dist-packages (3.2.5)\n",
            "Requirement already satisfied: six in /usr/local/lib/python3.7/dist-packages (from nltk) (1.15.0)\n",
            "Collecting sentencepiece\n",
            "\u001b[?25l  Downloading https://files.pythonhosted.org/packages/f5/99/e0808cb947ba10f575839c43e8fafc9cc44e4a7a2c8f79c60db48220a577/sentencepiece-0.1.95-cp37-cp37m-manylinux2014_x86_64.whl (1.2MB)\n",
            "\u001b[K     |████████████████████████████████| 1.2MB 20.3MB/s \n",
            "\u001b[?25hInstalling collected packages: sentencepiece\n",
            "Successfully installed sentencepiece-0.1.95\n",
            "Collecting pytorch-crf\n",
            "  Downloading https://files.pythonhosted.org/packages/96/7d/4c4688e26ea015fc118a0327e5726e6596836abce9182d3738be8ec2e32a/pytorch_crf-0.7.2-py3-none-any.whl\n",
            "Installing collected packages: pytorch-crf\n",
            "Successfully installed pytorch-crf-0.7.2\n"
          ],
          "name": "stdout"
        }
      ]
    },
    {
      "cell_type": "code",
      "metadata": {
        "colab": {
          "base_uri": "https://localhost:8080/"
        },
        "id": "mXNY2hjjDBy2",
        "outputId": "28c14472-845d-4983-985b-a9b650236bf2"
      },
      "source": [
        "!pip install scispacy==0.3.0\n",
        "!pip install https://s3-us-west-2.amazonaws.com/ai2-s2-scispacy/releases/v0.3.0/en_core_sci_sm-0.3.0.tar.gz"
      ],
      "execution_count": 2,
      "outputs": [
        {
          "output_type": "stream",
          "text": [
            "Collecting scispacy==0.3.0\n",
            "\u001b[?25l  Downloading https://files.pythonhosted.org/packages/7b/0c/e1dc89d73122677cdee8a2d4e734c608c5f112e0c4ea2886f0944ceff1b6/scispacy-0.3.0-py3-none-any.whl (42kB)\n",
            "\u001b[K     |████████████████████████████████| 51kB 7.5MB/s \n",
            "\u001b[?25hCollecting spacy<3.0.0,>=2.3.0\n",
            "\u001b[?25l  Downloading https://files.pythonhosted.org/packages/95/89/1539c4024c339650c222b0b2ca2b3e3f13523b7a02671f8001b7b1cee6f2/spacy-2.3.5-cp37-cp37m-manylinux2014_x86_64.whl (10.4MB)\n",
            "\u001b[K     |████████████████████████████████| 10.4MB 12.3MB/s \n",
            "\u001b[?25hRequirement already satisfied: requests<3.0.0conllu,>=2.0.0 in /usr/local/lib/python3.7/dist-packages (from scispacy==0.3.0) (2.23.0)\n",
            "Requirement already satisfied: numpy in /usr/local/lib/python3.7/dist-packages (from scispacy==0.3.0) (1.19.5)\n",
            "Requirement already satisfied: scikit-learn>=0.20.3 in /usr/local/lib/python3.7/dist-packages (from scispacy==0.3.0) (0.22.2.post1)\n",
            "Collecting nmslib>=1.7.3.6\n",
            "\u001b[?25l  Downloading https://files.pythonhosted.org/packages/be/77/aebbd03a32488024d2ae2230b47a28f6fa83c887318e673fa5d3234f7772/nmslib-2.1.1-cp37-cp37m-manylinux2010_x86_64.whl (13.5MB)\n",
            "\u001b[K     |████████████████████████████████| 13.5MB 151kB/s \n",
            "\u001b[?25hRequirement already satisfied: joblib in /usr/local/lib/python3.7/dist-packages (from scispacy==0.3.0) (1.0.1)\n",
            "Collecting pysbd\n",
            "\u001b[?25l  Downloading https://files.pythonhosted.org/packages/48/0a/c99fb7d7e176f8b176ef19704a32e6a9c6aafdf19ef75a187f701fc15801/pysbd-0.3.4-py3-none-any.whl (71kB)\n",
            "\u001b[K     |████████████████████████████████| 71kB 10.9MB/s \n",
            "\u001b[?25hCollecting thinc<7.5.0,>=7.4.1\n",
            "\u001b[?25l  Downloading https://files.pythonhosted.org/packages/9a/92/71ab278f865f7565c37ed6917d0f23342e4f9a0633013113bd435cf0a691/thinc-7.4.5-cp37-cp37m-manylinux2014_x86_64.whl (1.0MB)\n",
            "\u001b[K     |████████████████████████████████| 1.1MB 51.3MB/s \n",
            "\u001b[?25hRequirement already satisfied: preshed<3.1.0,>=3.0.2 in /usr/local/lib/python3.7/dist-packages (from spacy<3.0.0,>=2.3.0->scispacy==0.3.0) (3.0.5)\n",
            "Requirement already satisfied: catalogue<1.1.0,>=0.0.7 in /usr/local/lib/python3.7/dist-packages (from spacy<3.0.0,>=2.3.0->scispacy==0.3.0) (1.0.0)\n",
            "Requirement already satisfied: murmurhash<1.1.0,>=0.28.0 in /usr/local/lib/python3.7/dist-packages (from spacy<3.0.0,>=2.3.0->scispacy==0.3.0) (1.0.5)\n",
            "Requirement already satisfied: srsly<1.1.0,>=1.0.2 in /usr/local/lib/python3.7/dist-packages (from spacy<3.0.0,>=2.3.0->scispacy==0.3.0) (1.0.5)\n",
            "Requirement already satisfied: tqdm<5.0.0,>=4.38.0 in /usr/local/lib/python3.7/dist-packages (from spacy<3.0.0,>=2.3.0->scispacy==0.3.0) (4.41.1)\n",
            "Requirement already satisfied: plac<1.2.0,>=0.9.6 in /usr/local/lib/python3.7/dist-packages (from spacy<3.0.0,>=2.3.0->scispacy==0.3.0) (1.1.3)\n",
            "Requirement already satisfied: wasabi<1.1.0,>=0.4.0 in /usr/local/lib/python3.7/dist-packages (from spacy<3.0.0,>=2.3.0->scispacy==0.3.0) (0.8.2)\n",
            "Requirement already satisfied: blis<0.8.0,>=0.4.0 in /usr/local/lib/python3.7/dist-packages (from spacy<3.0.0,>=2.3.0->scispacy==0.3.0) (0.4.1)\n",
            "Requirement already satisfied: cymem<2.1.0,>=2.0.2 in /usr/local/lib/python3.7/dist-packages (from spacy<3.0.0,>=2.3.0->scispacy==0.3.0) (2.0.5)\n",
            "Requirement already satisfied: setuptools in /usr/local/lib/python3.7/dist-packages (from spacy<3.0.0,>=2.3.0->scispacy==0.3.0) (54.2.0)\n",
            "Requirement already satisfied: certifi>=2017.4.17 in /usr/local/lib/python3.7/dist-packages (from requests<3.0.0conllu,>=2.0.0->scispacy==0.3.0) (2020.12.5)\n",
            "Requirement already satisfied: idna<3,>=2.5 in /usr/local/lib/python3.7/dist-packages (from requests<3.0.0conllu,>=2.0.0->scispacy==0.3.0) (2.10)\n",
            "Requirement already satisfied: urllib3!=1.25.0,!=1.25.1,<1.26,>=1.21.1 in /usr/local/lib/python3.7/dist-packages (from requests<3.0.0conllu,>=2.0.0->scispacy==0.3.0) (1.24.3)\n",
            "Requirement already satisfied: chardet<4,>=3.0.2 in /usr/local/lib/python3.7/dist-packages (from requests<3.0.0conllu,>=2.0.0->scispacy==0.3.0) (3.0.4)\n",
            "Requirement already satisfied: scipy>=0.17.0 in /usr/local/lib/python3.7/dist-packages (from scikit-learn>=0.20.3->scispacy==0.3.0) (1.4.1)\n",
            "Collecting pybind11<2.6.2\n",
            "\u001b[?25l  Downloading https://files.pythonhosted.org/packages/00/84/fc9dc13ee536ba5e6b8fd10ce368fea5b738fe394c3b296cde7c9b144a92/pybind11-2.6.1-py2.py3-none-any.whl (188kB)\n",
            "\u001b[K     |████████████████████████████████| 194kB 58.1MB/s \n",
            "\u001b[?25hRequirement already satisfied: psutil in /usr/local/lib/python3.7/dist-packages (from nmslib>=1.7.3.6->scispacy==0.3.0) (5.4.8)\n",
            "Requirement already satisfied: importlib-metadata>=0.20; python_version < \"3.8\" in /usr/local/lib/python3.7/dist-packages (from catalogue<1.1.0,>=0.0.7->spacy<3.0.0,>=2.3.0->scispacy==0.3.0) (3.8.1)\n",
            "Requirement already satisfied: typing-extensions>=3.6.4; python_version < \"3.8\" in /usr/local/lib/python3.7/dist-packages (from importlib-metadata>=0.20; python_version < \"3.8\"->catalogue<1.1.0,>=0.0.7->spacy<3.0.0,>=2.3.0->scispacy==0.3.0) (3.7.4.3)\n",
            "Requirement already satisfied: zipp>=0.5 in /usr/local/lib/python3.7/dist-packages (from importlib-metadata>=0.20; python_version < \"3.8\"->catalogue<1.1.0,>=0.0.7->spacy<3.0.0,>=2.3.0->scispacy==0.3.0) (3.4.1)\n",
            "Installing collected packages: thinc, spacy, pybind11, nmslib, pysbd, scispacy\n",
            "  Found existing installation: thinc 7.4.0\n",
            "    Uninstalling thinc-7.4.0:\n",
            "      Successfully uninstalled thinc-7.4.0\n",
            "  Found existing installation: spacy 2.2.4\n",
            "    Uninstalling spacy-2.2.4:\n",
            "      Successfully uninstalled spacy-2.2.4\n",
            "Successfully installed nmslib-2.1.1 pybind11-2.6.1 pysbd-0.3.4 scispacy-0.3.0 spacy-2.3.5 thinc-7.4.5\n",
            "Collecting https://s3-us-west-2.amazonaws.com/ai2-s2-scispacy/releases/v0.3.0/en_core_sci_sm-0.3.0.tar.gz\n",
            "\u001b[?25l  Downloading https://s3-us-west-2.amazonaws.com/ai2-s2-scispacy/releases/v0.3.0/en_core_sci_sm-0.3.0.tar.gz (33.1MB)\n",
            "\u001b[K     |████████████████████████████████| 33.1MB 1.2MB/s \n",
            "\u001b[?25hRequirement already satisfied: spacy>=2.3.1 in /usr/local/lib/python3.7/dist-packages (from en-core-sci-sm==0.3.0) (2.3.5)\n",
            "Requirement already satisfied: plac<1.2.0,>=0.9.6 in /usr/local/lib/python3.7/dist-packages (from spacy>=2.3.1->en-core-sci-sm==0.3.0) (1.1.3)\n",
            "Requirement already satisfied: wasabi<1.1.0,>=0.4.0 in /usr/local/lib/python3.7/dist-packages (from spacy>=2.3.1->en-core-sci-sm==0.3.0) (0.8.2)\n",
            "Requirement already satisfied: thinc<7.5.0,>=7.4.1 in /usr/local/lib/python3.7/dist-packages (from spacy>=2.3.1->en-core-sci-sm==0.3.0) (7.4.5)\n",
            "Requirement already satisfied: srsly<1.1.0,>=1.0.2 in /usr/local/lib/python3.7/dist-packages (from spacy>=2.3.1->en-core-sci-sm==0.3.0) (1.0.5)\n",
            "Requirement already satisfied: catalogue<1.1.0,>=0.0.7 in /usr/local/lib/python3.7/dist-packages (from spacy>=2.3.1->en-core-sci-sm==0.3.0) (1.0.0)\n",
            "Requirement already satisfied: blis<0.8.0,>=0.4.0 in /usr/local/lib/python3.7/dist-packages (from spacy>=2.3.1->en-core-sci-sm==0.3.0) (0.4.1)\n",
            "Requirement already satisfied: cymem<2.1.0,>=2.0.2 in /usr/local/lib/python3.7/dist-packages (from spacy>=2.3.1->en-core-sci-sm==0.3.0) (2.0.5)\n",
            "Requirement already satisfied: requests<3.0.0,>=2.13.0 in /usr/local/lib/python3.7/dist-packages (from spacy>=2.3.1->en-core-sci-sm==0.3.0) (2.23.0)\n",
            "Requirement already satisfied: numpy>=1.15.0 in /usr/local/lib/python3.7/dist-packages (from spacy>=2.3.1->en-core-sci-sm==0.3.0) (1.19.5)\n",
            "Requirement already satisfied: tqdm<5.0.0,>=4.38.0 in /usr/local/lib/python3.7/dist-packages (from spacy>=2.3.1->en-core-sci-sm==0.3.0) (4.41.1)\n",
            "Requirement already satisfied: setuptools in /usr/local/lib/python3.7/dist-packages (from spacy>=2.3.1->en-core-sci-sm==0.3.0) (54.2.0)\n",
            "Requirement already satisfied: preshed<3.1.0,>=3.0.2 in /usr/local/lib/python3.7/dist-packages (from spacy>=2.3.1->en-core-sci-sm==0.3.0) (3.0.5)\n",
            "Requirement already satisfied: murmurhash<1.1.0,>=0.28.0 in /usr/local/lib/python3.7/dist-packages (from spacy>=2.3.1->en-core-sci-sm==0.3.0) (1.0.5)\n",
            "Requirement already satisfied: importlib-metadata>=0.20; python_version < \"3.8\" in /usr/local/lib/python3.7/dist-packages (from catalogue<1.1.0,>=0.0.7->spacy>=2.3.1->en-core-sci-sm==0.3.0) (3.8.1)\n",
            "Requirement already satisfied: urllib3!=1.25.0,!=1.25.1,<1.26,>=1.21.1 in /usr/local/lib/python3.7/dist-packages (from requests<3.0.0,>=2.13.0->spacy>=2.3.1->en-core-sci-sm==0.3.0) (1.24.3)\n",
            "Requirement already satisfied: idna<3,>=2.5 in /usr/local/lib/python3.7/dist-packages (from requests<3.0.0,>=2.13.0->spacy>=2.3.1->en-core-sci-sm==0.3.0) (2.10)\n",
            "Requirement already satisfied: certifi>=2017.4.17 in /usr/local/lib/python3.7/dist-packages (from requests<3.0.0,>=2.13.0->spacy>=2.3.1->en-core-sci-sm==0.3.0) (2020.12.5)\n",
            "Requirement already satisfied: chardet<4,>=3.0.2 in /usr/local/lib/python3.7/dist-packages (from requests<3.0.0,>=2.13.0->spacy>=2.3.1->en-core-sci-sm==0.3.0) (3.0.4)\n",
            "Requirement already satisfied: zipp>=0.5 in /usr/local/lib/python3.7/dist-packages (from importlib-metadata>=0.20; python_version < \"3.8\"->catalogue<1.1.0,>=0.0.7->spacy>=2.3.1->en-core-sci-sm==0.3.0) (3.4.1)\n",
            "Requirement already satisfied: typing-extensions>=3.6.4; python_version < \"3.8\" in /usr/local/lib/python3.7/dist-packages (from importlib-metadata>=0.20; python_version < \"3.8\"->catalogue<1.1.0,>=0.0.7->spacy>=2.3.1->en-core-sci-sm==0.3.0) (3.7.4.3)\n",
            "Building wheels for collected packages: en-core-sci-sm\n",
            "  Building wheel for en-core-sci-sm (setup.py) ... \u001b[?25l\u001b[?25hdone\n",
            "  Created wheel for en-core-sci-sm: filename=en_core_sci_sm-0.3.0-cp37-none-any.whl size=33119280 sha256=58bd1ba1f76aee515a542e8344d867ce21c66271468092ef41be445dfbabe8f0\n",
            "  Stored in directory: /root/.cache/pip/wheels/92/d2/d2/5aef870612ebd315c4b7b191f7ab5ff544281ef019d7c10c5d\n",
            "Successfully built en-core-sci-sm\n",
            "Installing collected packages: en-core-sci-sm\n",
            "Successfully installed en-core-sci-sm-0.3.0\n"
          ],
          "name": "stdout"
        }
      ]
    },
    {
      "cell_type": "code",
      "metadata": {
        "id": "GRRG2TMwR2r_"
      },
      "source": [
        "import numpy as np\n",
        "import pandas as pd\n",
        "import torch\n",
        "import torch.nn as nn\n",
        "import transformers\n",
        "from transformers import *\n",
        "import spacy\n",
        "import en_core_sci_sm\n",
        "from google.colab import drive\n",
        "import os\n",
        "import re\n",
        "from torchcrf import CRF"
      ],
      "execution_count": 3,
      "outputs": []
    },
    {
      "cell_type": "code",
      "metadata": {
        "colab": {
          "base_uri": "https://localhost:8080/"
        },
        "id": "z0J6ugDQSGXh",
        "outputId": "284d0278-be19-4ecb-cb6f-1cbd0d67fcd1"
      },
      "source": [
        "device = torch.device(\"cuda\" if torch.cuda.is_available() else \"cpu\")\n",
        "device"
      ],
      "execution_count": 4,
      "outputs": [
        {
          "output_type": "execute_result",
          "data": {
            "text/plain": [
              "device(type='cuda')"
            ]
          },
          "metadata": {
            "tags": []
          },
          "execution_count": 4
        }
      ]
    },
    {
      "cell_type": "code",
      "metadata": {
        "colab": {
          "base_uri": "https://localhost:8080/",
          "height": 65,
          "referenced_widgets": [
            "3623db05ed5c411dbe03a288465db4de",
            "c112e697adf443ccacf511e92df5a802",
            "f589e86126ae485e9c2a9d4b5a49c217",
            "c5d5fbb2d3684c29a88b7342cef0c240",
            "21d2a9ed055542ec95d855ee468eedfb",
            "b469a933845f4c3bbfe0da8223514445",
            "4f2d6e91af8246a18075f46fdf4cd136",
            "9221edc60c5b4a1ea64b6b93b6f38289"
          ]
        },
        "id": "HRTkGkTaSOGB",
        "outputId": "9d165c4f-dfd6-4f9b-9e4d-c1559e5e1c9f"
      },
      "source": [
        "tokenizer = BertTokenizer.from_pretrained('allenai/scibert_scivocab_uncased')"
      ],
      "execution_count": 5,
      "outputs": [
        {
          "output_type": "display_data",
          "data": {
            "application/vnd.jupyter.widget-view+json": {
              "model_id": "3623db05ed5c411dbe03a288465db4de",
              "version_minor": 0,
              "version_major": 2
            },
            "text/plain": [
              "HBox(children=(FloatProgress(value=0.0, description='Downloading', max=227845.0, style=ProgressStyle(descripti…"
            ]
          },
          "metadata": {
            "tags": []
          }
        },
        {
          "output_type": "stream",
          "text": [
            "\n"
          ],
          "name": "stdout"
        }
      ]
    },
    {
      "cell_type": "code",
      "metadata": {
        "colab": {
          "base_uri": "https://localhost:8080/"
        },
        "id": "xw3vEABbT2zN",
        "outputId": "b3eb05cc-8c55-4932-e030-7c7fb0726744"
      },
      "source": [
        "tokenizer"
      ],
      "execution_count": 6,
      "outputs": [
        {
          "output_type": "execute_result",
          "data": {
            "text/plain": [
              "PreTrainedTokenizer(name_or_path='allenai/scibert_scivocab_uncased', vocab_size=31090, model_max_len=1000000000000000019884624838656, is_fast=False, padding_side='right', special_tokens={'unk_token': '[UNK]', 'sep_token': '[SEP]', 'pad_token': '[PAD]', 'cls_token': '[CLS]', 'mask_token': '[MASK]'})"
            ]
          },
          "metadata": {
            "tags": []
          },
          "execution_count": 6
        }
      ]
    },
    {
      "cell_type": "code",
      "metadata": {
        "id": "0LOLo_UmT5kN"
      },
      "source": [
        "nlp = en_core_sci_sm.load()"
      ],
      "execution_count": 7,
      "outputs": []
    },
    {
      "cell_type": "code",
      "metadata": {
        "id": "5DjNvlgBUgK9"
      },
      "source": [
        "def sent_tok(text):\n",
        "  doc=nlp(text)\n",
        "  return [s.text for s in doc.sents]"
      ],
      "execution_count": 8,
      "outputs": []
    },
    {
      "cell_type": "code",
      "metadata": {
        "colab": {
          "base_uri": "https://localhost:8080/"
        },
        "id": "3F1pOarnUulu",
        "outputId": "a1a0d601-4046-47b4-92e2-75d2afebc0b0"
      },
      "source": [
        "drive.mount(\"/content/drive/\")\n",
        "train_files=os.listdir(\"/content/drive/MyDrive/MeasEval/final_data/train/text\")\n",
        "val_files=os.listdir(\"/content/drive/MyDrive/MeasEval/final_data/dev/text\")\n",
        "print(train_files)"
      ],
      "execution_count": 9,
      "outputs": [
        {
          "output_type": "stream",
          "text": [
            "Mounted at /content/drive/\n",
            "['S016412121300188X-5066.txt', 'S0016236113008041-3269.txt', 'S0019103512002801-1927.txt', 'S0019103512004009-4492.txt', 'S0012821X13007309-1509.txt', 'S0012821X12004384-1599.txt', 'S2211124713006475-1195.txt', 'S0021979713004438-2148.txt', 'S0019103512003995-2760.txt', 'S0019103512003533-5598.txt', 'S0019103512003533-3348.txt', 'S0012821X12004384-1302.txt', 'S0019103512004009-5507.txt', 'S0016236113008041-3161.txt', 'S1750583613004192-714.txt', 'S0378383912000130-3662.txt', 'S0016236113008041-3153.txt', 'S0019103512003995-3548.txt', 'S0019103512002801-1342.txt', 'S0022399913003358-1044.txt', 'S0019103513005058-4349.txt', 'S0165587612003680-953.txt', 'S0032386113009889-2123.txt', 'S1389128612002496-5994.txt', 'S0019103512004009-3488.txt', 'S0012821X12004384-1415.txt', 'S0022000014000026-18167.txt', 'S016412121300188X-4436.txt', 'S0019103513005058-1737.txt', 'S0019103511004994-1565.txt', 'S0021979713004438-1415.txt', 'S0025322712001600-2230.txt', 'S0016236113008041-3031.txt', 'S175058361300203X-1638.txt', 'S0019103512002801-1496.txt', 'S0012821X13002185-835.txt', 'S0019103512003533-5031.txt', 'S0038071711004354-2573.txt', 'S0012821X12004384-1405.txt', 'S0012821X13002185-1061.txt', 'S0016236113008041-3290.txt', 'S0019103512003533-4971.txt', 'S0032386113005454-2601.txt', 'S0378383912000130-3601.txt', 'S175058361300203X-1483.txt', 'S0019103512003995-1807.txt', 'S0016236113008041-3112.txt', 'S0019103512003533-5251.txt', 'S0016236113008041-913.txt', 'S0950705113001895-23699.txt', 'S0019103513005058-4210.txt', 'S0012821X13007309-1482.txt', 'S0016236113008041-3207.txt', 'S0927775713009606-1216.txt', 'S0019103512003533-5072.txt', 'S0021979713004438-1907.txt', 'S0019103512002801-1849.txt', 'S0022000014000026-17824.txt', 'S0019103512003995-1910.txt', 'S0019103512004009-3962.txt', 'S0019103512002801-1608.txt', 'S0019103512002801-1824.txt', 'S0006322312001096-626.txt', 'S0012821X13002185-1217.txt', 'S1388248113001951-339.txt', 'S0167610513002729-1127.txt', 'S1161030113001950-923.txt', 'S0378383912000130-3755.txt', 'S1873506114000075-1242.txt', 'S0167819113001051-1550.txt', 'S0019103513005058-4158.txt', 'S2213671113000738-430.txt', 'S0927775713009606-1361.txt', 'S0167610513001001-1751.txt', 'S0960148113004989-3327.txt', 'S016412121300188X-4617.txt', 'S0168945213001805-4454.txt', 'S0032386113005454-2008.txt', 'S0022459611006116-1448.txt', 'S0019103512004009-5033.txt', 'S0006322312001096-1177.txt', 'S0165587612003680-998.txt', 'S0927024813002961-1051.txt', 'S0378112713005288-2062.txt', 'S2213671113001306-908.txt', 'S0038071712001010-1044.txt', 'S2213671113000921-994.txt', 'S0006322312001096-1248.txt', 'S0032063312003054-1990.txt', 'S0378383911001669-1112.txt', 'S0927024813001955-576.txt', 'S1873506113001116-1369.txt', 'S0019103512003995-1767.txt', 'S0167880913001229-1021.txt', 'S1550413113004920-1509.txt', 'S0006322312001096-1260.txt', 'S0006322312001096-1194.txt', 'S2213671113000921-1279.txt', 'S0960148113005727-1181.txt', 'S0032063312002437-627.txt', 'S0927024813001955-1005.txt', 'S175058361300203X-1556.txt', 'S0167880913001229-1225.txt', 'S2211124712002884-682.txt', 'S0031405612000728-1621.txt', 'S0168945213001805-3964.txt', 'S0165587612003680-1078.txt', 'S0378112713005288-1948.txt', 'S175058361300203X-1542.txt', 'S0960148113005727-1494.txt', 'S1387700313001822-661.txt', 'S2213671113000921-714.txt', 'S0927775713009606-1074.txt', 'S0019103512004009-5271.txt', 'S0012821X12004384-1178.txt', 'S016412121300188X-4937.txt', 'S0006322312001096-1275.txt', 'S1873506114000075-1132.txt', 'S0038071713001971-1388.txt', 'S0012821X12004384-1640.txt', 'S2211124712002884-649.txt', 'S0167880913001229-1033.txt', 'S0006322312001096-1271.txt', 'S0960148113002048-3775.txt', 'S0921818113002245-859.txt', 'S0921818113002245-1752.txt', 'S2213671113000738-445.txt', 'S0006322312001096-1278.txt', 'S0019103512003533-3306.txt', 'S0167577X13006393-787.txt', 'S0019103512004009-4350.txt', 'S2213671113000738-435.txt', 'S0031405612000728-1639.txt', 'S1389128612002496-6138.txt', 'S0167577X13006393-644.txt', 'S0016236113008041-2924.txt', 'S0378112713005288-2036.txt', 'S1389128612002496-6119.txt', 'S0378383911001669-1634.txt', 'S0038071712001010-918.txt', 'S0016236113008041-3159.txt', 'S0032063312003054-2483.txt', 'S2213671113000908-979.txt', 'S0960148113005727-904.txt', 'S0019103512002801-1716.txt', 'S0960148113004989-3277.txt', 'S0016236113008041-3012.txt', 'S0167610512002292-3305.txt', 'S1367912013002277-1213.txt', 'S2213671113000908-640.txt', 'S0167819113001051-1247.txt', 'S2211124712002884-705.txt', 'S0925443913001385-1429.txt', 'S016412121300188X-4545.txt', 'S0378383911001669-2260.txt', 'S0032063313003218-6651.txt', 'S0025322712001600-2406.txt', 'S0006322312001096-1202.txt', 'S1873506113001116-710.txt', 'S0378383913001567-2462.txt', 'S027737911400050X-2401.txt', 'S0019103513005058-4175.txt', 'S016412121300188X-4640.txt', 'S0032386113005454-2308.txt', 'S2213671113001306-1404.txt', 'S016412121300188X-4069.txt', 'S0022399913003358-931.txt', 'S0925443913001385-1646.txt', 'S2211124712002884-1110.txt', 'S0032386113005454-2865.txt', 'S0006322312001096-1205.txt', 'S0012821X13007309-1691.txt', 'S2211124713006475-1205.txt', 'S0927024813002420-1202.txt', 'S0038071712001010-944.txt', 'S0012821X13002185-994.txt', 'S0927024813003036-2011.txt', 'S0006322312001096-1197.txt', 'S0019103513005058-4302.txt', 'S1873506113001116-1204.txt', 'S0378383911001669-1088.txt', 'S1873506113001116-978.txt', 'S0019103512003995-2737.txt', 'S0927024813001955-679.txt', 'S0012821X12004384-952.txt', 'S0022459611006116-547.txt', 'S0960148113004989-3203.txt', 'S0167610513002729-1062.txt', 'S1359835X13001875-1359.txt', 'S0167577X13006393-399.txt', 'S2213671113000738-738.txt', 'S0019103512003995-1283.txt', 'S0012821X12004384-1148.txt', 'S0006322312001096-1230.txt', 'S0012821X12004384-1232.txt', 'S0167577X14001256-517.txt', 'S1750583613004192-1267.txt', 'S0019103511004994-1399.txt', 'S0378383912000130-3907.txt', 'S0378383912000130-1096.txt', 'S0019103513005058-3917.txt', 'S2211124712002884-903.txt', 'S0032063312003054-2264.txt', 'S2213671113001306-1520.txt', 'S0019103513005058-3154.txt', 'S2213671113000738-485.txt', 'S0032386113005454-2055.txt', 'S0006322312001096-1190.txt', 'S0921818113002245-1571.txt', 'S0378383912000130-3732.txt', 'S0019103512004009-3976.txt', 'S2213158213000302-1597.txt', 'S0012821X12004384-1221.txt', 'S0012821X12004384-1284.txt', 'S0019103513005058-4098.txt', 'S0006322312001096-1221.txt', 'S0019103511004994-996.txt', 'S0927024813002420-1032.txt', 'S0169433213008933-689.txt', 'S0378383912000130-1048.txt', 'S2213671113001306-910.txt', 'S0378383912000130-1054.txt', 'S016412121300188X-5038.txt', 'S0168945213001805-5026.txt', 'S2213671113001306-1286.txt', 'S0927024813002420-975.txt', 'S1359645413009816-2973.txt', 'S2213671113001306-907.txt', 'S1359645413009816-2243.txt', 'S0925443913003037-1397.txt', 'S2213158213000582-1340.txt', 'S0031405612000728-769.txt', 'S0019103512004009-2821.txt', 'S0006322312001096-1253.txt', 'S0022399913003358-943.txt', 'S095741741101342X-726.txt', 'S0167880913001229-1304.txt', 'S2211124713006475-841.txt', 'S0167610512002292-3187.txt', 'S0925443913001385-839.txt', 'S0960148113004989-3258.txt', 'S0016236113008041-872.txt', 'S2213671113000738-647.txt', 'S0168945213001805-4775.txt', 'S0016236113008041-961.txt', 'S2213671113000908-810.txt', 'S0019103512001388-1070.txt', 'S0021979713004438-1401.txt', 'S016412121300188X-4392.txt', 'S0019103512003995-2681.txt', 'S0925443913001385-1638.txt', 'S0006322312001096-1136.txt', 'S0038071713001971-1427.txt', 'S0019103512002801-2018.txt', 'S2213671113001306-1398.txt', 'S0921818113002245-882.txt', 'S0167577X14001256-389.txt', 'S0032063312003054-2467.txt', 'S2213158213000582-1327.txt', 'S0168945213001805-4536.txt', 'S0378383912000130-3745.txt', 'S030881461301604X-1002.txt', 'S0960896612001022-1223.txt', 'S0032063312003054-2501.txt', 'S095741741101342X-2624.txt', 'S2213671113000738-684.txt', 'S0167610513001001-739.txt', 'S0378383912000130-3827.txt', 'S0378112713005288-1720.txt', 'S030881461301604X-1001.txt', 'S2211124712002884-1060.txt', 'S2213671113001306-885.txt', 'S0012821X12004384-1249.txt', 'S175058361300203X-1280.txt', 'S0927024813002961-1334.txt', 'S0012821X12004384-1265.txt', 'S0925443913003037-654.txt', 'S0019103512001388-3081.txt']\n"
          ],
          "name": "stdout"
        }
      ]
    },
    {
      "cell_type": "code",
      "metadata": {
        "colab": {
          "base_uri": "https://localhost:8080/"
        },
        "id": "b2t3OKeBID1d",
        "outputId": "beac08ca-22d4-45c7-b539-30ef870579b1"
      },
      "source": [
        "print(len(train_files))\n",
        "print(len(val_files))"
      ],
      "execution_count": 10,
      "outputs": [
        {
          "output_type": "stream",
          "text": [
            "278\n",
            "20\n"
          ],
          "name": "stdout"
        }
      ]
    },
    {
      "cell_type": "code",
      "metadata": {
        "id": "XK1LtLj-Yy_a"
      },
      "source": [
        "ans = []\n",
        "for file in train_files:\n",
        "  path_txt=os.path.join(\"/content/drive/MyDrive/MeasEval/final_data/train/text/\",file)\n",
        "  path_tsv=os.path.join(\"/content/drive/MyDrive/MeasEval/final_data/train/tsv/\",file[:-3]+\"tsv\")\n",
        "  if(not(os.path.exists(path_tsv))):\n",
        "    continue\n",
        "  file_tsv=pd.read_csv(path_tsv,sep = '\\t')\n",
        "  tsv_list = file_tsv.to_numpy()\n",
        "  with open(path_txt, 'r') as f:\n",
        "    text=f.read()\n",
        "  sentence_split = sent_tok(text=text)\n",
        "  len_p = 0\n",
        "  for sen in sentence_split:\n",
        "    val = []\n",
        "    val.append(sen)\n",
        "    for i in range(len(tsv_list)):\n",
        "      if tsv_list[i][2] == \"Quantity\" and tsv_list[i][3]>=len_p and tsv_list[i][4]<=len_p+len(sen):\n",
        "        val.append((tsv_list[i][3] - len_p, tsv_list[i][4] - len_p))\n",
        "    ans.append(val)\n",
        "    len_p += len(sen)+1"
      ],
      "execution_count": 11,
      "outputs": []
    },
    {
      "cell_type": "code",
      "metadata": {
        "colab": {
          "base_uri": "https://localhost:8080/"
        },
        "id": "Ya65BU_oplhA",
        "outputId": "80a200f4-0c9c-4fc5-9dbe-4c60f9b6f073"
      },
      "source": [
        "ans[5]"
      ],
      "execution_count": 12,
      "outputs": [
        {
          "output_type": "execute_result",
          "data": {
            "text/plain": [
              "['Additional case studies show that coherent clusters can help reveal the structure of a program and identify structural defects.']"
            ]
          },
          "metadata": {
            "tags": []
          },
          "execution_count": 12
        }
      ]
    },
    {
      "cell_type": "code",
      "metadata": {
        "id": "zK51ny6XqVRR"
      },
      "source": [
        "ans_dev = []\n",
        "for file in val_files:\n",
        "  path_txt=os.path.join(\"/content/drive/MyDrive/MeasEval/final_data/dev/text/\",file)\n",
        "  path_tsv=os.path.join(\"/content/drive/MyDrive/MeasEval/final_data/dev/tsv/\",file[:-3]+\"tsv\")\n",
        "  if(not(os.path.exists(path_tsv))):\n",
        "    continue\n",
        "  file_tsv=pd.read_csv(path_tsv,sep = '\\t')\n",
        "  tsv_list = file_tsv.to_numpy()\n",
        "  with open(path_txt, 'r') as f:\n",
        "    text=f.read()\n",
        "  sentence_split = sent_tok(text=text)\n",
        "  len_p = 0\n",
        "  for sen in sentence_split:\n",
        "    val = []\n",
        "    val.append(sen)\n",
        "    for i in range(len(tsv_list)):\n",
        "      if tsv_list[i][2] == \"Quantity\" and tsv_list[i][3]>=len_p and tsv_list[i][4]<=len_p+len(sen):\n",
        "        val.append((tsv_list[i][3] - len_p, tsv_list[i][4] - len_p))\n",
        "    ans_dev.append(val)\n",
        "    len_p += len(sen)+1"
      ],
      "execution_count": 13,
      "outputs": []
    },
    {
      "cell_type": "code",
      "metadata": {
        "colab": {
          "base_uri": "https://localhost:8080/"
        },
        "id": "NsEA9NCqrHZQ",
        "outputId": "bafceab5-9062-411b-ba51-cfe0a0becfaf"
      },
      "source": [
        "ans_dev[6]"
      ],
      "execution_count": 14,
      "outputs": [
        {
          "output_type": "execute_result",
          "data": {
            "text/plain": [
              "['The instrument is mounted on top of a movable turntable which rotates about the −y-axis of the spacecraft within 86 s, nominally.',\n",
              " (113, 128)]"
            ]
          },
          "metadata": {
            "tags": []
          },
          "execution_count": 14
        }
      ]
    },
    {
      "cell_type": "code",
      "metadata": {
        "colab": {
          "base_uri": "https://localhost:8080/"
        },
        "id": "bBAjRK6wBLjT",
        "outputId": "b56c6aa4-e023-4915-8c49-834e31b9fc4c"
      },
      "source": [
        "!pip install stanza"
      ],
      "execution_count": 15,
      "outputs": [
        {
          "output_type": "stream",
          "text": [
            "Collecting stanza\n",
            "\u001b[?25l  Downloading https://files.pythonhosted.org/packages/50/ae/a70a58ce6b4e2daad538688806ee0f238dbe601954582a74ea57cde6c532/stanza-1.2-py3-none-any.whl (282kB)\n",
            "\r\u001b[K     |█▏                              | 10kB 23.4MB/s eta 0:00:01\r\u001b[K     |██▎                             | 20kB 29.7MB/s eta 0:00:01\r\u001b[K     |███▌                            | 30kB 21.4MB/s eta 0:00:01\r\u001b[K     |████▋                           | 40kB 24.4MB/s eta 0:00:01\r\u001b[K     |█████▉                          | 51kB 23.8MB/s eta 0:00:01\r\u001b[K     |███████                         | 61kB 26.1MB/s eta 0:00:01\r\u001b[K     |████████▏                       | 71kB 24.1MB/s eta 0:00:01\r\u001b[K     |█████████▎                      | 81kB 25.4MB/s eta 0:00:01\r\u001b[K     |██████████▌                     | 92kB 22.7MB/s eta 0:00:01\r\u001b[K     |███████████▋                    | 102kB 23.5MB/s eta 0:00:01\r\u001b[K     |████████████▉                   | 112kB 23.5MB/s eta 0:00:01\r\u001b[K     |██████████████                  | 122kB 23.5MB/s eta 0:00:01\r\u001b[K     |███████████████                 | 133kB 23.5MB/s eta 0:00:01\r\u001b[K     |████████████████▎               | 143kB 23.5MB/s eta 0:00:01\r\u001b[K     |█████████████████▍              | 153kB 23.5MB/s eta 0:00:01\r\u001b[K     |██████████████████▋             | 163kB 23.5MB/s eta 0:00:01\r\u001b[K     |███████████████████▊            | 174kB 23.5MB/s eta 0:00:01\r\u001b[K     |█████████████████████           | 184kB 23.5MB/s eta 0:00:01\r\u001b[K     |██████████████████████          | 194kB 23.5MB/s eta 0:00:01\r\u001b[K     |███████████████████████▎        | 204kB 23.5MB/s eta 0:00:01\r\u001b[K     |████████████████████████▍       | 215kB 23.5MB/s eta 0:00:01\r\u001b[K     |█████████████████████████▋      | 225kB 23.5MB/s eta 0:00:01\r\u001b[K     |██████████████████████████▊     | 235kB 23.5MB/s eta 0:00:01\r\u001b[K     |███████████████████████████▉    | 245kB 23.5MB/s eta 0:00:01\r\u001b[K     |█████████████████████████████   | 256kB 23.5MB/s eta 0:00:01\r\u001b[K     |██████████████████████████████▏ | 266kB 23.5MB/s eta 0:00:01\r\u001b[K     |███████████████████████████████▍| 276kB 23.5MB/s eta 0:00:01\r\u001b[K     |████████████████████████████████| 286kB 23.5MB/s \n",
            "\u001b[?25hRequirement already satisfied: tqdm in /usr/local/lib/python3.7/dist-packages (from stanza) (4.41.1)\n",
            "Requirement already satisfied: requests in /usr/local/lib/python3.7/dist-packages (from stanza) (2.23.0)\n",
            "Requirement already satisfied: protobuf in /usr/local/lib/python3.7/dist-packages (from stanza) (3.12.4)\n",
            "Requirement already satisfied: numpy in /usr/local/lib/python3.7/dist-packages (from stanza) (1.19.5)\n",
            "Requirement already satisfied: torch>=1.3.0 in /usr/local/lib/python3.7/dist-packages (from stanza) (1.8.1+cu101)\n",
            "Requirement already satisfied: idna<3,>=2.5 in /usr/local/lib/python3.7/dist-packages (from requests->stanza) (2.10)\n",
            "Requirement already satisfied: certifi>=2017.4.17 in /usr/local/lib/python3.7/dist-packages (from requests->stanza) (2020.12.5)\n",
            "Requirement already satisfied: urllib3!=1.25.0,!=1.25.1,<1.26,>=1.21.1 in /usr/local/lib/python3.7/dist-packages (from requests->stanza) (1.24.3)\n",
            "Requirement already satisfied: chardet<4,>=3.0.2 in /usr/local/lib/python3.7/dist-packages (from requests->stanza) (3.0.4)\n",
            "Requirement already satisfied: six>=1.9 in /usr/local/lib/python3.7/dist-packages (from protobuf->stanza) (1.15.0)\n",
            "Requirement already satisfied: setuptools in /usr/local/lib/python3.7/dist-packages (from protobuf->stanza) (54.2.0)\n",
            "Requirement already satisfied: typing-extensions in /usr/local/lib/python3.7/dist-packages (from torch>=1.3.0->stanza) (3.7.4.3)\n",
            "Installing collected packages: stanza\n",
            "Successfully installed stanza-1.2\n"
          ],
          "name": "stdout"
        }
      ]
    },
    {
      "cell_type": "code",
      "metadata": {
        "colab": {
          "base_uri": "https://localhost:8080/"
        },
        "id": "tsqBjZbOBQNh",
        "outputId": "e044ef94-74b8-4be9-af74-7b64b62a2526"
      },
      "source": [
        "import stanza\n",
        "stanza.download('en')\n",
        "nlp2=stanza.Pipeline(lang='en', processors='tokenize', tokenize_no_ssplit=True)"
      ],
      "execution_count": 16,
      "outputs": [
        {
          "output_type": "stream",
          "text": [
            "Downloading https://raw.githubusercontent.com/stanfordnlp/stanza-resources/master/resources_1.2.0.json: 128kB [00:00, 43.5MB/s]                    \n",
            "2021-04-12 13:36:08 INFO: Downloading default packages for language: en (English)...\n",
            "Downloading http://nlp.stanford.edu/software/stanza/1.2.0/en/default.zip: 100%|██████████| 411M/411M [01:18<00:00, 5.26MB/s]\n",
            "2021-04-12 13:37:32 INFO: Finished downloading models and saved to /root/stanza_resources.\n",
            "2021-04-12 13:37:32 INFO: Loading these models for language: en (English):\n",
            "========================\n",
            "| Processor | Package  |\n",
            "------------------------\n",
            "| tokenize  | combined |\n",
            "========================\n",
            "\n",
            "2021-04-12 13:37:32 INFO: Use device: gpu\n",
            "2021-04-12 13:37:32 INFO: Loading: tokenize\n",
            "2021-04-12 13:37:43 INFO: Done loading processors!\n"
          ],
          "name": "stderr"
        }
      ]
    },
    {
      "cell_type": "code",
      "metadata": {
        "id": "Xu0kh-pXCAxn"
      },
      "source": [
        "def length(text):\n",
        "  l = 0\n",
        "  for i in range(len(text)):\n",
        "    if text[i] != '#':\n",
        "      l += 1\n",
        "  return l"
      ],
      "execution_count": 17,
      "outputs": []
    },
    {
      "cell_type": "code",
      "metadata": {
        "id": "2U-ICKJfrJ1q"
      },
      "source": [
        "pretrain = []\n",
        "i = 0\n",
        "for val in ans:\n",
        "  sen_tok = []\n",
        "  sen = nlp2(val[0])\n",
        "  label_en = []\n",
        "  for w in sen.sentences[0].words[:]:\n",
        "    rng = re.findall(r'\\d+', w.misc) \n",
        "    bert_tok = tokenizer.tokenize(w.text)\n",
        "    sen_tok.extend(bert_tok)\n",
        "    w_len = int(rng[0])\n",
        "    for t in bert_tok:\n",
        "      c  = 0\n",
        "      for i in range(1, len(val)):\n",
        "        if val[i][0] <= w_len and val[i][1] >= w_len + length(t):\n",
        "          c += 1\n",
        "      if c != 0:\n",
        "        label_en.append(1)\n",
        "      else:\n",
        "        label_en.append(0)\n",
        "      w_len += length(t)\n",
        "  pretrain.append([sen_tok, label_en])"
      ],
      "execution_count": 18,
      "outputs": []
    },
    {
      "cell_type": "code",
      "metadata": {
        "colab": {
          "base_uri": "https://localhost:8080/"
        },
        "id": "53ftcxsVB50Z",
        "outputId": "91a738ec-3fc6-4bd6-d9b5-0399321af403"
      },
      "source": [
        "pretrain[2]"
      ],
      "execution_count": 19,
      "outputs": [
        {
          "output_type": "execute_result",
          "data": {
            "text/plain": [
              "[['this',\n",
              "  'paper',\n",
              "  'extends',\n",
              "  'previous',\n",
              "  'work',\n",
              "  'in',\n",
              "  'many',\n",
              "  'ways',\n",
              "  ',',\n",
              "  'firstly',\n",
              "  'by',\n",
              "  'introducing',\n",
              "  'an',\n",
              "  'efficient',\n",
              "  'hashing',\n",
              "  'algorithm',\n",
              "  'for',\n",
              "  'slice',\n",
              "  'approximation',\n",
              "  '.'],\n",
              " [0, 0, 0, 0, 0, 0, 0, 0, 0, 0, 0, 0, 0, 0, 0, 0, 0, 0, 0, 0]]"
            ]
          },
          "metadata": {
            "tags": []
          },
          "execution_count": 19
        }
      ]
    },
    {
      "cell_type": "code",
      "metadata": {
        "id": "S6Z3TH8rCgJi"
      },
      "source": [
        "validation = []\n",
        "i = 0\n",
        "for val in ans_dev:\n",
        "  sen_tok = []\n",
        "  sen = nlp2(val[0])\n",
        "  label_en = []\n",
        "  for w in sen.sentences[0].words[:]:\n",
        "    rng = re.findall(r'\\d+', w.misc) \n",
        "    bert_tok = tokenizer.tokenize(w.text)\n",
        "    sen_tok.extend(bert_tok)\n",
        "    w_len = int(rng[0]);\n",
        "    for t in bert_tok:\n",
        "      c  = 0\n",
        "      for i in range(1, len(val)):\n",
        "        if val[i][0] <= w_len and val[i][1] >= w_len + length(t):\n",
        "          c += 1\n",
        "      if c != 0:\n",
        "        label_en.append(1)\n",
        "      else:\n",
        "        label_en.append(0)\n",
        "      w_len += length(t)\n",
        "  validation.append([sen_tok, label_en])"
      ],
      "execution_count": 20,
      "outputs": []
    },
    {
      "cell_type": "code",
      "metadata": {
        "colab": {
          "base_uri": "https://localhost:8080/"
        },
        "id": "4svayz8DC5d9",
        "outputId": "aecd46f1-1ae8-4f61-88b2-d4beafcc3fe4"
      },
      "source": [
        "validation[2]"
      ],
      "execution_count": 21,
      "outputs": [
        {
          "output_type": "execute_result",
          "data": {
            "text/plain": [
              "[['low',\n",
              "  '-',\n",
              "  'energy',\n",
              "  'electrons',\n",
              "  'and',\n",
              "  'ions',\n",
              "  'measured',\n",
              "  'in',\n",
              "  'le',\n",
              "  'are',\n",
              "  'separated',\n",
              "  'by',\n",
              "  'a',\n",
              "  'strong',\n",
              "  'internal',\n",
              "  'magnet',\n",
              "  '.'],\n",
              " [0, 0, 0, 0, 0, 0, 0, 0, 0, 0, 0, 0, 0, 0, 0, 0, 0]]"
            ]
          },
          "metadata": {
            "tags": []
          },
          "execution_count": 21
        }
      ]
    },
    {
      "cell_type": "code",
      "metadata": {
        "id": "vZhtAAr6C8Ju"
      },
      "source": [
        "train = []\n",
        "for val in pretrain:\n",
        "  lab = np.zeros(256)\n",
        "  tok_arr = np.zeros(256)\n",
        "  att_mask = np.zeros(256)\n",
        "  sen_tok = []\n",
        "  tok_arr[0] = 102\n",
        "  att_mask[0] = 1\n",
        "  for tok in val[0]:\n",
        "    sen_tok.append(tokenizer.convert_tokens_to_ids(tok))\n",
        "  for i in range(len(val[1])):\n",
        "    lab[i+1] = val[1][i]\n",
        "    tok_arr[i+1] = sen_tok[i]\n",
        "    att_mask[i+1] = 1\n",
        "  train.append([tok_arr,att_mask, lab])\n"
      ],
      "execution_count": 22,
      "outputs": []
    },
    {
      "cell_type": "code",
      "metadata": {
        "colab": {
          "base_uri": "https://localhost:8080/"
        },
        "id": "tpQ9Xqe4DRVR",
        "outputId": "b50ad408-04e7-4556-9815-02cf92a24f51"
      },
      "source": [
        "train[2]"
      ],
      "execution_count": 23,
      "outputs": [
        {
          "output_type": "execute_result",
          "data": {
            "text/plain": [
              "[array([  102.,   238.,  1203., 10615.,  1061.,   697.,   121.,  1164.,\n",
              "         4568.,   422.,  9693.,   214.,  9344.,   130.,  3316., 29054.,\n",
              "         1172.,   168., 11735.,  4528.,   205.,     0.,     0.,     0.,\n",
              "            0.,     0.,     0.,     0.,     0.,     0.,     0.,     0.,\n",
              "            0.,     0.,     0.,     0.,     0.,     0.,     0.,     0.,\n",
              "            0.,     0.,     0.,     0.,     0.,     0.,     0.,     0.,\n",
              "            0.,     0.,     0.,     0.,     0.,     0.,     0.,     0.,\n",
              "            0.,     0.,     0.,     0.,     0.,     0.,     0.,     0.,\n",
              "            0.,     0.,     0.,     0.,     0.,     0.,     0.,     0.,\n",
              "            0.,     0.,     0.,     0.,     0.,     0.,     0.,     0.,\n",
              "            0.,     0.,     0.,     0.,     0.,     0.,     0.,     0.,\n",
              "            0.,     0.,     0.,     0.,     0.,     0.,     0.,     0.,\n",
              "            0.,     0.,     0.,     0.,     0.,     0.,     0.,     0.,\n",
              "            0.,     0.,     0.,     0.,     0.,     0.,     0.,     0.,\n",
              "            0.,     0.,     0.,     0.,     0.,     0.,     0.,     0.,\n",
              "            0.,     0.,     0.,     0.,     0.,     0.,     0.,     0.,\n",
              "            0.,     0.,     0.,     0.,     0.,     0.,     0.,     0.,\n",
              "            0.,     0.,     0.,     0.,     0.,     0.,     0.,     0.,\n",
              "            0.,     0.,     0.,     0.,     0.,     0.,     0.,     0.,\n",
              "            0.,     0.,     0.,     0.,     0.,     0.,     0.,     0.,\n",
              "            0.,     0.,     0.,     0.,     0.,     0.,     0.,     0.,\n",
              "            0.,     0.,     0.,     0.,     0.,     0.,     0.,     0.,\n",
              "            0.,     0.,     0.,     0.,     0.,     0.,     0.,     0.,\n",
              "            0.,     0.,     0.,     0.,     0.,     0.,     0.,     0.,\n",
              "            0.,     0.,     0.,     0.,     0.,     0.,     0.,     0.,\n",
              "            0.,     0.,     0.,     0.,     0.,     0.,     0.,     0.,\n",
              "            0.,     0.,     0.,     0.,     0.,     0.,     0.,     0.,\n",
              "            0.,     0.,     0.,     0.,     0.,     0.,     0.,     0.,\n",
              "            0.,     0.,     0.,     0.,     0.,     0.,     0.,     0.,\n",
              "            0.,     0.,     0.,     0.,     0.,     0.,     0.,     0.,\n",
              "            0.,     0.,     0.,     0.,     0.,     0.,     0.,     0.,\n",
              "            0.,     0.,     0.,     0.,     0.,     0.,     0.,     0.]),\n",
              " array([1., 1., 1., 1., 1., 1., 1., 1., 1., 1., 1., 1., 1., 1., 1., 1., 1.,\n",
              "        1., 1., 1., 1., 0., 0., 0., 0., 0., 0., 0., 0., 0., 0., 0., 0., 0.,\n",
              "        0., 0., 0., 0., 0., 0., 0., 0., 0., 0., 0., 0., 0., 0., 0., 0., 0.,\n",
              "        0., 0., 0., 0., 0., 0., 0., 0., 0., 0., 0., 0., 0., 0., 0., 0., 0.,\n",
              "        0., 0., 0., 0., 0., 0., 0., 0., 0., 0., 0., 0., 0., 0., 0., 0., 0.,\n",
              "        0., 0., 0., 0., 0., 0., 0., 0., 0., 0., 0., 0., 0., 0., 0., 0., 0.,\n",
              "        0., 0., 0., 0., 0., 0., 0., 0., 0., 0., 0., 0., 0., 0., 0., 0., 0.,\n",
              "        0., 0., 0., 0., 0., 0., 0., 0., 0., 0., 0., 0., 0., 0., 0., 0., 0.,\n",
              "        0., 0., 0., 0., 0., 0., 0., 0., 0., 0., 0., 0., 0., 0., 0., 0., 0.,\n",
              "        0., 0., 0., 0., 0., 0., 0., 0., 0., 0., 0., 0., 0., 0., 0., 0., 0.,\n",
              "        0., 0., 0., 0., 0., 0., 0., 0., 0., 0., 0., 0., 0., 0., 0., 0., 0.,\n",
              "        0., 0., 0., 0., 0., 0., 0., 0., 0., 0., 0., 0., 0., 0., 0., 0., 0.,\n",
              "        0., 0., 0., 0., 0., 0., 0., 0., 0., 0., 0., 0., 0., 0., 0., 0., 0.,\n",
              "        0., 0., 0., 0., 0., 0., 0., 0., 0., 0., 0., 0., 0., 0., 0., 0., 0.,\n",
              "        0., 0., 0., 0., 0., 0., 0., 0., 0., 0., 0., 0., 0., 0., 0., 0., 0.,\n",
              "        0.]),\n",
              " array([0., 0., 0., 0., 0., 0., 0., 0., 0., 0., 0., 0., 0., 0., 0., 0., 0.,\n",
              "        0., 0., 0., 0., 0., 0., 0., 0., 0., 0., 0., 0., 0., 0., 0., 0., 0.,\n",
              "        0., 0., 0., 0., 0., 0., 0., 0., 0., 0., 0., 0., 0., 0., 0., 0., 0.,\n",
              "        0., 0., 0., 0., 0., 0., 0., 0., 0., 0., 0., 0., 0., 0., 0., 0., 0.,\n",
              "        0., 0., 0., 0., 0., 0., 0., 0., 0., 0., 0., 0., 0., 0., 0., 0., 0.,\n",
              "        0., 0., 0., 0., 0., 0., 0., 0., 0., 0., 0., 0., 0., 0., 0., 0., 0.,\n",
              "        0., 0., 0., 0., 0., 0., 0., 0., 0., 0., 0., 0., 0., 0., 0., 0., 0.,\n",
              "        0., 0., 0., 0., 0., 0., 0., 0., 0., 0., 0., 0., 0., 0., 0., 0., 0.,\n",
              "        0., 0., 0., 0., 0., 0., 0., 0., 0., 0., 0., 0., 0., 0., 0., 0., 0.,\n",
              "        0., 0., 0., 0., 0., 0., 0., 0., 0., 0., 0., 0., 0., 0., 0., 0., 0.,\n",
              "        0., 0., 0., 0., 0., 0., 0., 0., 0., 0., 0., 0., 0., 0., 0., 0., 0.,\n",
              "        0., 0., 0., 0., 0., 0., 0., 0., 0., 0., 0., 0., 0., 0., 0., 0., 0.,\n",
              "        0., 0., 0., 0., 0., 0., 0., 0., 0., 0., 0., 0., 0., 0., 0., 0., 0.,\n",
              "        0., 0., 0., 0., 0., 0., 0., 0., 0., 0., 0., 0., 0., 0., 0., 0., 0.,\n",
              "        0., 0., 0., 0., 0., 0., 0., 0., 0., 0., 0., 0., 0., 0., 0., 0., 0.,\n",
              "        0.])]"
            ]
          },
          "metadata": {
            "tags": []
          },
          "execution_count": 23
        }
      ]
    },
    {
      "cell_type": "code",
      "metadata": {
        "id": "TFjqqDddDTCN"
      },
      "source": [
        "val_data = []\n",
        "for val in validation:\n",
        "  lab = np.zeros(256)\n",
        "  tok_arr = np.zeros(256)\n",
        "  att_mask = np.zeros(256)\n",
        "  sen_tok = []\n",
        "  tok_arr[0] = 102\n",
        "  att_mask[0] = 1\n",
        "  for tok in val[0]:\n",
        "    sen_tok.append(tokenizer.convert_tokens_to_ids(tok))\n",
        "  for i in range(len(val[1])):\n",
        "    lab[i+1] = val[1][i]\n",
        "    tok_arr[i+1] = sen_tok[i]\n",
        "    att_mask[i+1] = 1\n",
        "  val_data.append([tok_arr,att_mask, lab])"
      ],
      "execution_count": 24,
      "outputs": []
    },
    {
      "cell_type": "code",
      "metadata": {
        "id": "GC3EOa3lb4n7"
      },
      "source": [
        "x_train_id = np.zeros((0,256))\n",
        "x_train_mask = np.zeros((0,256))\n",
        "y_train = np.zeros((0,256))\n",
        "for val in train:\n",
        "  x_train_id = np.vstack((x_train_id, val[0]))\n",
        "  x_train_mask = np.vstack((x_train_mask, val[1]))\n",
        "  y_train = np.vstack((y_train, val[2]))"
      ],
      "execution_count": 25,
      "outputs": []
    },
    {
      "cell_type": "code",
      "metadata": {
        "id": "-uppUsGFkMMN"
      },
      "source": [
        "x_val_id = np.zeros((0,256))\n",
        "x_val_mask = np.zeros((0,256))\n",
        "y_val = np.zeros((0,256))\n",
        "for val in val_data:\n",
        "  x_val_id = np.vstack((x_val_id, val[0]))\n",
        "  x_val_mask = np.vstack((x_val_mask, val[1]))\n",
        "  y_val = np.vstack((y_val, val[2]))"
      ],
      "execution_count": 26,
      "outputs": []
    },
    {
      "cell_type": "code",
      "metadata": {
        "id": "-AuGrlUAkfDv"
      },
      "source": [
        "for i in range(len(y_train)):\n",
        "  for j in range(1,len(y_train[0])):\n",
        "    if y_train[i][j-1] == 0 and y_train[i][j] == 1:\n",
        "      y_train[i][j] = 2\n",
        "for i in range(len(y_val)):\n",
        "  for j in range(1,len(y_val[0])):\n",
        "    if y_val[i][j-1] == 0 and y_val[i][j] == 1:\n",
        "      y_val[i][j] = 2"
      ],
      "execution_count": 27,
      "outputs": []
    },
    {
      "cell_type": "code",
      "metadata": {
        "id": "AmdBMG3UlNdQ"
      },
      "source": [
        "from torch.utils.data import TensorDataset,DataLoader\n",
        "\n",
        "train_data = TensorDataset(torch.from_numpy(x_train_id), torch.from_numpy(x_train_mask), torch.from_numpy(y_train))\n",
        "val_data = TensorDataset(torch.from_numpy(x_val_id), torch.from_numpy(x_val_mask), torch.from_numpy(y_val))"
      ],
      "execution_count": 28,
      "outputs": []
    },
    {
      "cell_type": "code",
      "metadata": {
        "id": "ZeDJeDCBlTqZ"
      },
      "source": [
        "batch_size = 12\n",
        "train_loader = DataLoader(train_data, shuffle=True, batch_size = batch_size)\n",
        "val_loader = DataLoader(val_data, shuffle=True, batch_size = batch_size)\n"
      ],
      "execution_count": 29,
      "outputs": []
    },
    {
      "cell_type": "code",
      "metadata": {
        "colab": {
          "base_uri": "https://localhost:8080/",
          "height": 114,
          "referenced_widgets": [
            "24169cbe28db4dc7adc7fa65a73d2702",
            "61c86e05866b497a9e7627e6a19b2ccb",
            "7cdd949a89d2470ba808093f7b04bba4",
            "0e14eb95c95f46f1b7426a63bdd6a208",
            "68abf6eec27c426a9eb48e727eba050c",
            "ee99ea83ec4f4a23a8fc44377fb1f133",
            "8f7f542d0bfc4ddab2b60eabb69febc3",
            "3d9771aa789349a1826c93412acb67bb",
            "913cd621172b4382a0d9927dad476d1d",
            "b45a5d18de7e4fd392045b68315cfb50",
            "4da4b50cdf2245c1807068f4b442b90e",
            "46e133ccbdd645a2b2c18bf8d9aa3928",
            "75da8e3e0d6144f8baa186e1cb04c056",
            "cf6206f4710440b2bde4f763ac8b7719",
            "c50a70813c0b40f085dead83093e4859",
            "06a4f825ca4c4f8b9f8a60d827225805"
          ]
        },
        "id": "-57Ov7Sxlp_q",
        "outputId": "0b6990f5-e5e5-43ac-ced8-dfb9f29c16a6"
      },
      "source": [
        "tokenizer = BertTokenizer.from_pretrained('allenai/scibert_scivocab_uncased')\n",
        "model = BertModel.from_pretrained('allenai/scibert_scivocab_uncased')"
      ],
      "execution_count": 30,
      "outputs": [
        {
          "output_type": "display_data",
          "data": {
            "application/vnd.jupyter.widget-view+json": {
              "model_id": "24169cbe28db4dc7adc7fa65a73d2702",
              "version_minor": 0,
              "version_major": 2
            },
            "text/plain": [
              "HBox(children=(FloatProgress(value=0.0, description='Downloading', max=385.0, style=ProgressStyle(description_…"
            ]
          },
          "metadata": {
            "tags": []
          }
        },
        {
          "output_type": "stream",
          "text": [
            "\n"
          ],
          "name": "stdout"
        },
        {
          "output_type": "display_data",
          "data": {
            "application/vnd.jupyter.widget-view+json": {
              "model_id": "913cd621172b4382a0d9927dad476d1d",
              "version_minor": 0,
              "version_major": 2
            },
            "text/plain": [
              "HBox(children=(FloatProgress(value=0.0, description='Downloading', max=442221694.0, style=ProgressStyle(descri…"
            ]
          },
          "metadata": {
            "tags": []
          }
        },
        {
          "output_type": "stream",
          "text": [
            "\n"
          ],
          "name": "stdout"
        }
      ]
    },
    {
      "cell_type": "code",
      "metadata": {
        "id": "GkvTJYhJl8Xi"
      },
      "source": [
        "\n",
        "class BERT_Arch(nn.Module):\n",
        "\n",
        "    def __init__(self, bert, embed_dim, hidden_dim, drop_prob, n_layers, out_dim):\n",
        "      \n",
        "      super(BERT_Arch, self).__init__()\n",
        "      self.bert = bert \n",
        "      self.dropout = nn.Dropout(drop_prob)\n",
        "      self.fc1 = nn.Linear(2*embed_dim,out_dim)\n",
        "      self.w1 = nn.Linear(embed_dim, embed_dim)\n",
        "      self.w2 = nn.Linear(embed_dim, embed_dim)\n",
        "      #self.bilstm = nn.LSTM(embed_dim, hidden_dim,  bidirectional=True, batch_first=True)\n",
        "      self.softmax = nn.LogSoftmax(dim = 2)\n",
        "      self.crf = CRF(3, batch_first=True)  \n",
        "      self.tanh = nn.Tanh()\n",
        "\n",
        "    #define the forward pass\n",
        "    def forward(self, sent_id, mask_val, labels=None):\n",
        "      x = self.bert(sent_id, attention_mask=mask_val)\n",
        "      x = x.last_hidden_state\n",
        "      x = self.tanh(x)\n",
        "      cls = x[:,0,:]\n",
        "      cls = cls.unsqueeze(1).repeat(1, 256, 1)\n",
        "      cls = self.w1(cls)\n",
        "      x = self.w2(x)\n",
        "      x = torch.cat([x,cls], dim = 2)\n",
        "      #x,_ = self.bilstm(x)\n",
        "      x = self.dropout(x)\n",
        "      x = self.fc1(x)\n",
        "      mask_val = mask_val.type(torch.uint8)\n",
        "      logit = self.softmax(x)\n",
        "      if labels is not None:\n",
        "          loss = -self.crf(logit, labels, mask=mask_val, reduction='mean')\n",
        "          return loss\n",
        "      else:\n",
        "          prediction = self.crf.decode(x, mask=mask_val)\n",
        "          return prediction"
      ],
      "execution_count": 31,
      "outputs": []
    },
    {
      "cell_type": "code",
      "metadata": {
        "id": "ARKPMAfCmMg1"
      },
      "source": [
        "bert_model = BERT_Arch(model, 768, 64, 0.1, 1,3)\n",
        "bert_model = bert_model.to(device)"
      ],
      "execution_count": 32,
      "outputs": []
    },
    {
      "cell_type": "code",
      "metadata": {
        "colab": {
          "base_uri": "https://localhost:8080/"
        },
        "id": "E0JwoWjzmUTa",
        "outputId": "7b50ebe8-7fad-475e-8293-b536755786c8"
      },
      "source": [
        "print(bert_model)"
      ],
      "execution_count": 33,
      "outputs": [
        {
          "output_type": "stream",
          "text": [
            "BERT_Arch(\n",
            "  (bert): BertModel(\n",
            "    (embeddings): BertEmbeddings(\n",
            "      (word_embeddings): Embedding(31090, 768, padding_idx=0)\n",
            "      (position_embeddings): Embedding(512, 768)\n",
            "      (token_type_embeddings): Embedding(2, 768)\n",
            "      (LayerNorm): LayerNorm((768,), eps=1e-12, elementwise_affine=True)\n",
            "      (dropout): Dropout(p=0.1, inplace=False)\n",
            "    )\n",
            "    (encoder): BertEncoder(\n",
            "      (layer): ModuleList(\n",
            "        (0): BertLayer(\n",
            "          (attention): BertAttention(\n",
            "            (self): BertSelfAttention(\n",
            "              (query): Linear(in_features=768, out_features=768, bias=True)\n",
            "              (key): Linear(in_features=768, out_features=768, bias=True)\n",
            "              (value): Linear(in_features=768, out_features=768, bias=True)\n",
            "              (dropout): Dropout(p=0.1, inplace=False)\n",
            "            )\n",
            "            (output): BertSelfOutput(\n",
            "              (dense): Linear(in_features=768, out_features=768, bias=True)\n",
            "              (LayerNorm): LayerNorm((768,), eps=1e-12, elementwise_affine=True)\n",
            "              (dropout): Dropout(p=0.1, inplace=False)\n",
            "            )\n",
            "          )\n",
            "          (intermediate): BertIntermediate(\n",
            "            (dense): Linear(in_features=768, out_features=3072, bias=True)\n",
            "          )\n",
            "          (output): BertOutput(\n",
            "            (dense): Linear(in_features=3072, out_features=768, bias=True)\n",
            "            (LayerNorm): LayerNorm((768,), eps=1e-12, elementwise_affine=True)\n",
            "            (dropout): Dropout(p=0.1, inplace=False)\n",
            "          )\n",
            "        )\n",
            "        (1): BertLayer(\n",
            "          (attention): BertAttention(\n",
            "            (self): BertSelfAttention(\n",
            "              (query): Linear(in_features=768, out_features=768, bias=True)\n",
            "              (key): Linear(in_features=768, out_features=768, bias=True)\n",
            "              (value): Linear(in_features=768, out_features=768, bias=True)\n",
            "              (dropout): Dropout(p=0.1, inplace=False)\n",
            "            )\n",
            "            (output): BertSelfOutput(\n",
            "              (dense): Linear(in_features=768, out_features=768, bias=True)\n",
            "              (LayerNorm): LayerNorm((768,), eps=1e-12, elementwise_affine=True)\n",
            "              (dropout): Dropout(p=0.1, inplace=False)\n",
            "            )\n",
            "          )\n",
            "          (intermediate): BertIntermediate(\n",
            "            (dense): Linear(in_features=768, out_features=3072, bias=True)\n",
            "          )\n",
            "          (output): BertOutput(\n",
            "            (dense): Linear(in_features=3072, out_features=768, bias=True)\n",
            "            (LayerNorm): LayerNorm((768,), eps=1e-12, elementwise_affine=True)\n",
            "            (dropout): Dropout(p=0.1, inplace=False)\n",
            "          )\n",
            "        )\n",
            "        (2): BertLayer(\n",
            "          (attention): BertAttention(\n",
            "            (self): BertSelfAttention(\n",
            "              (query): Linear(in_features=768, out_features=768, bias=True)\n",
            "              (key): Linear(in_features=768, out_features=768, bias=True)\n",
            "              (value): Linear(in_features=768, out_features=768, bias=True)\n",
            "              (dropout): Dropout(p=0.1, inplace=False)\n",
            "            )\n",
            "            (output): BertSelfOutput(\n",
            "              (dense): Linear(in_features=768, out_features=768, bias=True)\n",
            "              (LayerNorm): LayerNorm((768,), eps=1e-12, elementwise_affine=True)\n",
            "              (dropout): Dropout(p=0.1, inplace=False)\n",
            "            )\n",
            "          )\n",
            "          (intermediate): BertIntermediate(\n",
            "            (dense): Linear(in_features=768, out_features=3072, bias=True)\n",
            "          )\n",
            "          (output): BertOutput(\n",
            "            (dense): Linear(in_features=3072, out_features=768, bias=True)\n",
            "            (LayerNorm): LayerNorm((768,), eps=1e-12, elementwise_affine=True)\n",
            "            (dropout): Dropout(p=0.1, inplace=False)\n",
            "          )\n",
            "        )\n",
            "        (3): BertLayer(\n",
            "          (attention): BertAttention(\n",
            "            (self): BertSelfAttention(\n",
            "              (query): Linear(in_features=768, out_features=768, bias=True)\n",
            "              (key): Linear(in_features=768, out_features=768, bias=True)\n",
            "              (value): Linear(in_features=768, out_features=768, bias=True)\n",
            "              (dropout): Dropout(p=0.1, inplace=False)\n",
            "            )\n",
            "            (output): BertSelfOutput(\n",
            "              (dense): Linear(in_features=768, out_features=768, bias=True)\n",
            "              (LayerNorm): LayerNorm((768,), eps=1e-12, elementwise_affine=True)\n",
            "              (dropout): Dropout(p=0.1, inplace=False)\n",
            "            )\n",
            "          )\n",
            "          (intermediate): BertIntermediate(\n",
            "            (dense): Linear(in_features=768, out_features=3072, bias=True)\n",
            "          )\n",
            "          (output): BertOutput(\n",
            "            (dense): Linear(in_features=3072, out_features=768, bias=True)\n",
            "            (LayerNorm): LayerNorm((768,), eps=1e-12, elementwise_affine=True)\n",
            "            (dropout): Dropout(p=0.1, inplace=False)\n",
            "          )\n",
            "        )\n",
            "        (4): BertLayer(\n",
            "          (attention): BertAttention(\n",
            "            (self): BertSelfAttention(\n",
            "              (query): Linear(in_features=768, out_features=768, bias=True)\n",
            "              (key): Linear(in_features=768, out_features=768, bias=True)\n",
            "              (value): Linear(in_features=768, out_features=768, bias=True)\n",
            "              (dropout): Dropout(p=0.1, inplace=False)\n",
            "            )\n",
            "            (output): BertSelfOutput(\n",
            "              (dense): Linear(in_features=768, out_features=768, bias=True)\n",
            "              (LayerNorm): LayerNorm((768,), eps=1e-12, elementwise_affine=True)\n",
            "              (dropout): Dropout(p=0.1, inplace=False)\n",
            "            )\n",
            "          )\n",
            "          (intermediate): BertIntermediate(\n",
            "            (dense): Linear(in_features=768, out_features=3072, bias=True)\n",
            "          )\n",
            "          (output): BertOutput(\n",
            "            (dense): Linear(in_features=3072, out_features=768, bias=True)\n",
            "            (LayerNorm): LayerNorm((768,), eps=1e-12, elementwise_affine=True)\n",
            "            (dropout): Dropout(p=0.1, inplace=False)\n",
            "          )\n",
            "        )\n",
            "        (5): BertLayer(\n",
            "          (attention): BertAttention(\n",
            "            (self): BertSelfAttention(\n",
            "              (query): Linear(in_features=768, out_features=768, bias=True)\n",
            "              (key): Linear(in_features=768, out_features=768, bias=True)\n",
            "              (value): Linear(in_features=768, out_features=768, bias=True)\n",
            "              (dropout): Dropout(p=0.1, inplace=False)\n",
            "            )\n",
            "            (output): BertSelfOutput(\n",
            "              (dense): Linear(in_features=768, out_features=768, bias=True)\n",
            "              (LayerNorm): LayerNorm((768,), eps=1e-12, elementwise_affine=True)\n",
            "              (dropout): Dropout(p=0.1, inplace=False)\n",
            "            )\n",
            "          )\n",
            "          (intermediate): BertIntermediate(\n",
            "            (dense): Linear(in_features=768, out_features=3072, bias=True)\n",
            "          )\n",
            "          (output): BertOutput(\n",
            "            (dense): Linear(in_features=3072, out_features=768, bias=True)\n",
            "            (LayerNorm): LayerNorm((768,), eps=1e-12, elementwise_affine=True)\n",
            "            (dropout): Dropout(p=0.1, inplace=False)\n",
            "          )\n",
            "        )\n",
            "        (6): BertLayer(\n",
            "          (attention): BertAttention(\n",
            "            (self): BertSelfAttention(\n",
            "              (query): Linear(in_features=768, out_features=768, bias=True)\n",
            "              (key): Linear(in_features=768, out_features=768, bias=True)\n",
            "              (value): Linear(in_features=768, out_features=768, bias=True)\n",
            "              (dropout): Dropout(p=0.1, inplace=False)\n",
            "            )\n",
            "            (output): BertSelfOutput(\n",
            "              (dense): Linear(in_features=768, out_features=768, bias=True)\n",
            "              (LayerNorm): LayerNorm((768,), eps=1e-12, elementwise_affine=True)\n",
            "              (dropout): Dropout(p=0.1, inplace=False)\n",
            "            )\n",
            "          )\n",
            "          (intermediate): BertIntermediate(\n",
            "            (dense): Linear(in_features=768, out_features=3072, bias=True)\n",
            "          )\n",
            "          (output): BertOutput(\n",
            "            (dense): Linear(in_features=3072, out_features=768, bias=True)\n",
            "            (LayerNorm): LayerNorm((768,), eps=1e-12, elementwise_affine=True)\n",
            "            (dropout): Dropout(p=0.1, inplace=False)\n",
            "          )\n",
            "        )\n",
            "        (7): BertLayer(\n",
            "          (attention): BertAttention(\n",
            "            (self): BertSelfAttention(\n",
            "              (query): Linear(in_features=768, out_features=768, bias=True)\n",
            "              (key): Linear(in_features=768, out_features=768, bias=True)\n",
            "              (value): Linear(in_features=768, out_features=768, bias=True)\n",
            "              (dropout): Dropout(p=0.1, inplace=False)\n",
            "            )\n",
            "            (output): BertSelfOutput(\n",
            "              (dense): Linear(in_features=768, out_features=768, bias=True)\n",
            "              (LayerNorm): LayerNorm((768,), eps=1e-12, elementwise_affine=True)\n",
            "              (dropout): Dropout(p=0.1, inplace=False)\n",
            "            )\n",
            "          )\n",
            "          (intermediate): BertIntermediate(\n",
            "            (dense): Linear(in_features=768, out_features=3072, bias=True)\n",
            "          )\n",
            "          (output): BertOutput(\n",
            "            (dense): Linear(in_features=3072, out_features=768, bias=True)\n",
            "            (LayerNorm): LayerNorm((768,), eps=1e-12, elementwise_affine=True)\n",
            "            (dropout): Dropout(p=0.1, inplace=False)\n",
            "          )\n",
            "        )\n",
            "        (8): BertLayer(\n",
            "          (attention): BertAttention(\n",
            "            (self): BertSelfAttention(\n",
            "              (query): Linear(in_features=768, out_features=768, bias=True)\n",
            "              (key): Linear(in_features=768, out_features=768, bias=True)\n",
            "              (value): Linear(in_features=768, out_features=768, bias=True)\n",
            "              (dropout): Dropout(p=0.1, inplace=False)\n",
            "            )\n",
            "            (output): BertSelfOutput(\n",
            "              (dense): Linear(in_features=768, out_features=768, bias=True)\n",
            "              (LayerNorm): LayerNorm((768,), eps=1e-12, elementwise_affine=True)\n",
            "              (dropout): Dropout(p=0.1, inplace=False)\n",
            "            )\n",
            "          )\n",
            "          (intermediate): BertIntermediate(\n",
            "            (dense): Linear(in_features=768, out_features=3072, bias=True)\n",
            "          )\n",
            "          (output): BertOutput(\n",
            "            (dense): Linear(in_features=3072, out_features=768, bias=True)\n",
            "            (LayerNorm): LayerNorm((768,), eps=1e-12, elementwise_affine=True)\n",
            "            (dropout): Dropout(p=0.1, inplace=False)\n",
            "          )\n",
            "        )\n",
            "        (9): BertLayer(\n",
            "          (attention): BertAttention(\n",
            "            (self): BertSelfAttention(\n",
            "              (query): Linear(in_features=768, out_features=768, bias=True)\n",
            "              (key): Linear(in_features=768, out_features=768, bias=True)\n",
            "              (value): Linear(in_features=768, out_features=768, bias=True)\n",
            "              (dropout): Dropout(p=0.1, inplace=False)\n",
            "            )\n",
            "            (output): BertSelfOutput(\n",
            "              (dense): Linear(in_features=768, out_features=768, bias=True)\n",
            "              (LayerNorm): LayerNorm((768,), eps=1e-12, elementwise_affine=True)\n",
            "              (dropout): Dropout(p=0.1, inplace=False)\n",
            "            )\n",
            "          )\n",
            "          (intermediate): BertIntermediate(\n",
            "            (dense): Linear(in_features=768, out_features=3072, bias=True)\n",
            "          )\n",
            "          (output): BertOutput(\n",
            "            (dense): Linear(in_features=3072, out_features=768, bias=True)\n",
            "            (LayerNorm): LayerNorm((768,), eps=1e-12, elementwise_affine=True)\n",
            "            (dropout): Dropout(p=0.1, inplace=False)\n",
            "          )\n",
            "        )\n",
            "        (10): BertLayer(\n",
            "          (attention): BertAttention(\n",
            "            (self): BertSelfAttention(\n",
            "              (query): Linear(in_features=768, out_features=768, bias=True)\n",
            "              (key): Linear(in_features=768, out_features=768, bias=True)\n",
            "              (value): Linear(in_features=768, out_features=768, bias=True)\n",
            "              (dropout): Dropout(p=0.1, inplace=False)\n",
            "            )\n",
            "            (output): BertSelfOutput(\n",
            "              (dense): Linear(in_features=768, out_features=768, bias=True)\n",
            "              (LayerNorm): LayerNorm((768,), eps=1e-12, elementwise_affine=True)\n",
            "              (dropout): Dropout(p=0.1, inplace=False)\n",
            "            )\n",
            "          )\n",
            "          (intermediate): BertIntermediate(\n",
            "            (dense): Linear(in_features=768, out_features=3072, bias=True)\n",
            "          )\n",
            "          (output): BertOutput(\n",
            "            (dense): Linear(in_features=3072, out_features=768, bias=True)\n",
            "            (LayerNorm): LayerNorm((768,), eps=1e-12, elementwise_affine=True)\n",
            "            (dropout): Dropout(p=0.1, inplace=False)\n",
            "          )\n",
            "        )\n",
            "        (11): BertLayer(\n",
            "          (attention): BertAttention(\n",
            "            (self): BertSelfAttention(\n",
            "              (query): Linear(in_features=768, out_features=768, bias=True)\n",
            "              (key): Linear(in_features=768, out_features=768, bias=True)\n",
            "              (value): Linear(in_features=768, out_features=768, bias=True)\n",
            "              (dropout): Dropout(p=0.1, inplace=False)\n",
            "            )\n",
            "            (output): BertSelfOutput(\n",
            "              (dense): Linear(in_features=768, out_features=768, bias=True)\n",
            "              (LayerNorm): LayerNorm((768,), eps=1e-12, elementwise_affine=True)\n",
            "              (dropout): Dropout(p=0.1, inplace=False)\n",
            "            )\n",
            "          )\n",
            "          (intermediate): BertIntermediate(\n",
            "            (dense): Linear(in_features=768, out_features=3072, bias=True)\n",
            "          )\n",
            "          (output): BertOutput(\n",
            "            (dense): Linear(in_features=3072, out_features=768, bias=True)\n",
            "            (LayerNorm): LayerNorm((768,), eps=1e-12, elementwise_affine=True)\n",
            "            (dropout): Dropout(p=0.1, inplace=False)\n",
            "          )\n",
            "        )\n",
            "      )\n",
            "    )\n",
            "    (pooler): BertPooler(\n",
            "      (dense): Linear(in_features=768, out_features=768, bias=True)\n",
            "      (activation): Tanh()\n",
            "    )\n",
            "  )\n",
            "  (dropout): Dropout(p=0.1, inplace=False)\n",
            "  (fc1): Linear(in_features=1536, out_features=3, bias=True)\n",
            "  (w1): Linear(in_features=768, out_features=768, bias=True)\n",
            "  (w2): Linear(in_features=768, out_features=768, bias=True)\n",
            "  (softmax): LogSoftmax(dim=2)\n",
            "  (crf): CRF(num_tags=3)\n",
            "  (tanh): Tanh()\n",
            ")\n"
          ],
          "name": "stdout"
        }
      ]
    },
    {
      "cell_type": "code",
      "metadata": {
        "id": "WJVG4L8Un-X9"
      },
      "source": [
        "optimizer = torch.optim.SGD(bert_model.parameters(), lr=0.01,momentum=0.9)"
      ],
      "execution_count": 34,
      "outputs": []
    },
    {
      "cell_type": "code",
      "metadata": {
        "id": "U8WCLgORoFDh"
      },
      "source": [
        "\n",
        "def score(val_loader):\n",
        "  p=0\n",
        "  n=0\n",
        "  pos=0\n",
        "  neg=0\n",
        "  prec_num = 0 \n",
        "  prec_den = 0\n",
        "  rec_num = 0\n",
        "  rec_den = 0 \n",
        "  p1 = 0\n",
        "  n1=0\n",
        "  for seq, mask, y in val_loader:\n",
        "      bert_model.zero_grad()\n",
        "      bert_model.eval()\n",
        "      y_pred = bert_model(seq.long().to(device), mask.long().to(device))\n",
        "      np_out = np.zeros((len(y_pred),256, 1))\n",
        "      np_act = (y.cpu().data.numpy() >= 1).astype(int).reshape((len(y), len(y[0]),1))\n",
        "      \n",
        "      for i in range(np_out.shape[0]):\n",
        "        prev_2 = 0\n",
        "        for j in range(np_out.shape[1]):\n",
        "          for k in range(np_out.shape[2]):\n",
        "            if j >= len(y_pred[i]):\n",
        "              np_out[i][j][k] = 0\n",
        "            elif y_pred[i][j] == 2:\n",
        "              np_out[i][j][k]=1\n",
        "              prev_2 = 1\n",
        "            elif y_pred[i][j] == 1 and prev_2 == 1:\n",
        "              np_out[i][j][k]=1\n",
        "            else:\n",
        "              prev_2 = 0\n",
        "              np_out[i][j][k]=0\n",
        "\n",
        "      for i in range(np_out.shape[0]):\n",
        "        for j in range(np_out.shape[1]):\n",
        "          if np.max(np_out[i,j,:])==1 or np.max(np_act[i,j,:])==1:\n",
        "            if np.max(np_out[i,j,:])==1 and np.max(np_act[i,j,:])==1:\n",
        "              p1 = p1 + 1\n",
        "            else:\n",
        "              n1 = n1 + 1\n",
        "\n",
        "      for i in range(np_out.shape[0]):\n",
        "        for j in range(np_out.shape[1]):\n",
        "          for k in range(np_out.shape[2]):\n",
        "            if np_out[i,j,k] == np_act[i,j,k]:\n",
        "              p = p +1\n",
        "            else:\n",
        "              n=n+1\n",
        "            if (np_out[i,j,k])==1 or (np_act[i,j,k])==1:\n",
        "              if (np_out[i,j,k])==1 and (np_act[i,j,k])==1:\n",
        "                pos = pos + 1\n",
        "              else:\n",
        "                neg = neg + 1\n",
        "            if np_out[i,j,k]==1:\n",
        "              if np_out[i,j,k]==np_act[i,j,k]:\n",
        "                prec_num = prec_num + 1\n",
        "              else:\n",
        "                prec_den = prec_den + 1\n",
        "            if np_act[i,j,k]==1:\n",
        "              if np_out[i,j,k]==np_act[i,j,k]:\n",
        "                rec_num = rec_num + 1\n",
        "              else:\n",
        "                rec_den = rec_den + 1\n",
        "  if prec_num+prec_den == 0:\n",
        "    return 0\n",
        "  precision = prec_num/(prec_num+prec_den)\n",
        "  if rec_num+rec_den == 0:\n",
        "    return 0\n",
        "  recall = rec_num/(rec_num+rec_den)\n",
        "  if precision == 0 and recall == 0:\n",
        "    return 0\n",
        "  F1 = 2*precision*recall/(precision+recall)\n",
        "  return F1"
      ],
      "execution_count": 35,
      "outputs": []
    },
    {
      "cell_type": "code",
      "metadata": {
        "colab": {
          "base_uri": "https://localhost:8080/"
        },
        "id": "HTgE2yMboMD1",
        "outputId": "75c9cdaa-f24b-46e9-edef-7fdfae56d393"
      },
      "source": [
        "epochs = 10\n",
        "for e in range(epochs):\n",
        "  \n",
        "  bert_model.train()\n",
        "  i=0\n",
        "  train_loss=0\n",
        "  for seq, mask, y in train_loader:\n",
        "    bert_model.zero_grad()\n",
        "    loss = bert_model(seq.long().to(device), mask.long().to(device), y.long().to(device))\n",
        "    train_loss += loss.item()*batch_size\n",
        "    loss.backward()\n",
        "    torch.nn.utils.clip_grad_norm_(bert_model.parameters(), 1.0)\n",
        "    optimizer.step()\n",
        "    if(i%5==0):\n",
        "      print(\"Epoch-{}/{} Iterations-{} loss-{}\".format(e+1,epochs,i+1,loss.item()))\n",
        "    i+=1\n",
        "  \n",
        "  bert_model.eval()\n",
        "  f1_score = score(val_loader)\n",
        "  val_loss=0\n",
        "  for seq, mask, y in val_loader:\n",
        "    bert_model.zero_grad()\n",
        "    loss = bert_model(seq.long().to(device), mask.long().to(device), y.long().to(device))\n",
        "    val_loss += loss.item()*batch_size\n",
        "    i+=1\n",
        "  \n",
        "  print(\"Epoch-{}/{} train_loss-{} Val_loss-{} F1 Score-{}\".format(e+1,epochs,train_loss/len(train_loader),val_loss/len(val_loader), f1_score))"
      ],
      "execution_count": 36,
      "outputs": [
        {
          "output_type": "stream",
          "text": [
            "Epoch-1/10 Iterations-1 loss-38.25678253173828\n",
            "Epoch-1/10 Iterations-6 loss-20.052963256835938\n",
            "Epoch-1/10 Iterations-11 loss-9.795960426330566\n",
            "Epoch-1/10 Iterations-16 loss-16.86676597595215\n",
            "Epoch-1/10 Iterations-21 loss-9.916542053222656\n",
            "Epoch-1/10 Iterations-26 loss-8.461443901062012\n",
            "Epoch-1/10 Iterations-31 loss-4.942470073699951\n",
            "Epoch-1/10 Iterations-36 loss-4.820696830749512\n",
            "Epoch-1/10 Iterations-41 loss-1.379876971244812\n",
            "Epoch-1/10 Iterations-46 loss-2.8941097259521484\n",
            "Epoch-1/10 Iterations-51 loss-4.564614772796631\n",
            "Epoch-1/10 Iterations-56 loss-2.1300179958343506\n",
            "Epoch-1/10 Iterations-61 loss-3.887444496154785\n",
            "Epoch-1/10 Iterations-66 loss-1.0145280361175537\n",
            "Epoch-1/10 Iterations-71 loss-5.293062210083008\n",
            "Epoch-1/10 Iterations-76 loss-1.2408400774002075\n",
            "Epoch-1/10 Iterations-81 loss-3.9129576683044434\n",
            "Epoch-1/10 Iterations-86 loss-2.5822553634643555\n",
            "Epoch-1/10 Iterations-91 loss-7.491784572601318\n",
            "Epoch-1/10 Iterations-96 loss-0.9272007942199707\n",
            "Epoch-1/10 Iterations-101 loss-2.7445151805877686\n",
            "Epoch-1/10 Iterations-106 loss-3.1902174949645996\n",
            "Epoch-1/10 Iterations-111 loss-2.485224723815918\n",
            "Epoch-1/10 Iterations-116 loss-1.0527546405792236\n",
            "Epoch-1/10 Iterations-121 loss-1.2597814798355103\n",
            "Epoch-1/10 train_loss-70.93028182983399 Val_loss-19.405071908777412 F1 Score-0.9483204134366926\n",
            "Epoch-2/10 Iterations-1 loss-0.9411311149597168\n",
            "Epoch-2/10 Iterations-6 loss-2.5669240951538086\n",
            "Epoch-2/10 Iterations-11 loss-0.6634020209312439\n",
            "Epoch-2/10 Iterations-16 loss-4.049103736877441\n",
            "Epoch-2/10 Iterations-21 loss-0.8640187978744507\n",
            "Epoch-2/10 Iterations-26 loss-4.302857875823975\n",
            "Epoch-2/10 Iterations-31 loss-0.13976073265075684\n",
            "Epoch-2/10 Iterations-36 loss-0.4056479334831238\n",
            "Epoch-2/10 Iterations-41 loss-1.4198637008666992\n",
            "Epoch-2/10 Iterations-46 loss-0.6549085974693298\n",
            "Epoch-2/10 Iterations-51 loss-0.8431052565574646\n",
            "Epoch-2/10 Iterations-56 loss-0.3414325416088104\n",
            "Epoch-2/10 Iterations-61 loss-0.8597277402877808\n",
            "Epoch-2/10 Iterations-66 loss-0.5814889669418335\n",
            "Epoch-2/10 Iterations-71 loss-2.185187816619873\n",
            "Epoch-2/10 Iterations-76 loss-1.139577865600586\n",
            "Epoch-2/10 Iterations-81 loss-3.5535154342651367\n",
            "Epoch-2/10 Iterations-86 loss-0.43885934352874756\n",
            "Epoch-2/10 Iterations-91 loss-0.1733860969543457\n",
            "Epoch-2/10 Iterations-96 loss-0.5587039589881897\n",
            "Epoch-2/10 Iterations-101 loss-0.7161979675292969\n",
            "Epoch-2/10 Iterations-106 loss-0.11702018976211548\n",
            "Epoch-2/10 Iterations-111 loss-0.5883726477622986\n",
            "Epoch-2/10 Iterations-116 loss-0.30982375144958496\n",
            "Epoch-2/10 Iterations-121 loss-2.3520803451538086\n",
            "Epoch-2/10 train_loss-17.733587585449218 Val_loss-16.883114202456042 F1 Score-0.9484536082474228\n",
            "Epoch-3/10 Iterations-1 loss-0.23851928114891052\n",
            "Epoch-3/10 Iterations-6 loss-0.6947566270828247\n",
            "Epoch-3/10 Iterations-11 loss-1.6070421934127808\n",
            "Epoch-3/10 Iterations-16 loss-0.7227883338928223\n",
            "Epoch-3/10 Iterations-21 loss-0.5311209559440613\n",
            "Epoch-3/10 Iterations-26 loss-0.435119092464447\n",
            "Epoch-3/10 Iterations-31 loss-0.12347741425037384\n",
            "Epoch-3/10 Iterations-36 loss-1.5603660345077515\n",
            "Epoch-3/10 Iterations-41 loss-1.410067081451416\n",
            "Epoch-3/10 Iterations-46 loss-1.1548657417297363\n",
            "Epoch-3/10 Iterations-51 loss-1.2078237533569336\n",
            "Epoch-3/10 Iterations-56 loss-0.9530548453330994\n",
            "Epoch-3/10 Iterations-61 loss-0.2814030647277832\n",
            "Epoch-3/10 Iterations-66 loss-0.08183430135250092\n",
            "Epoch-3/10 Iterations-71 loss-0.3413243293762207\n",
            "Epoch-3/10 Iterations-76 loss-1.1512864828109741\n",
            "Epoch-3/10 Iterations-81 loss-1.8583502769470215\n",
            "Epoch-3/10 Iterations-86 loss-0.442867636680603\n",
            "Epoch-3/10 Iterations-91 loss-0.4634140431880951\n",
            "Epoch-3/10 Iterations-96 loss-0.12182377278804779\n",
            "Epoch-3/10 Iterations-101 loss-0.9035202860832214\n",
            "Epoch-3/10 Iterations-106 loss-0.8839439153671265\n",
            "Epoch-3/10 Iterations-111 loss-0.5672041773796082\n",
            "Epoch-3/10 Iterations-116 loss-0.9834036827087402\n",
            "Epoch-3/10 Iterations-121 loss-1.832402229309082\n",
            "Epoch-3/10 train_loss-12.63354328519106 Val_loss-15.896387079899961 F1 Score-0.9436435124508519\n",
            "Epoch-4/10 Iterations-1 loss-0.1001332700252533\n",
            "Epoch-4/10 Iterations-6 loss-0.13248741626739502\n",
            "Epoch-4/10 Iterations-11 loss-1.127575159072876\n",
            "Epoch-4/10 Iterations-16 loss-1.0292785167694092\n",
            "Epoch-4/10 Iterations-21 loss-0.5146123766899109\n",
            "Epoch-4/10 Iterations-26 loss-0.025964796543121338\n",
            "Epoch-4/10 Iterations-31 loss-0.6380032300949097\n",
            "Epoch-4/10 Iterations-36 loss-0.04169042035937309\n",
            "Epoch-4/10 Iterations-41 loss-0.08042850345373154\n",
            "Epoch-4/10 Iterations-46 loss-1.170256495475769\n",
            "Epoch-4/10 Iterations-51 loss-0.761705756187439\n",
            "Epoch-4/10 Iterations-56 loss-0.024840813130140305\n",
            "Epoch-4/10 Iterations-61 loss-0.24993078410625458\n",
            "Epoch-4/10 Iterations-66 loss-0.021118998527526855\n",
            "Epoch-4/10 Iterations-71 loss-0.3633723855018616\n",
            "Epoch-4/10 Iterations-76 loss-0.24112287163734436\n",
            "Epoch-4/10 Iterations-81 loss-0.017444878816604614\n",
            "Epoch-4/10 Iterations-86 loss-1.157078742980957\n",
            "Epoch-4/10 Iterations-91 loss-2.9875619411468506\n",
            "Epoch-4/10 Iterations-96 loss-0.16028201580047607\n",
            "Epoch-4/10 Iterations-101 loss-0.6403194665908813\n",
            "Epoch-4/10 Iterations-106 loss-0.00939631462097168\n",
            "Epoch-4/10 Iterations-111 loss-0.12342547625303268\n",
            "Epoch-4/10 Iterations-116 loss-1.6675715446472168\n",
            "Epoch-4/10 Iterations-121 loss-0.9147560000419617\n",
            "Epoch-4/10 train_loss-7.865564005555585 Val_loss-24.96360635473816 F1 Score-0.9263157894736842\n",
            "Epoch-5/10 Iterations-1 loss-0.05997055768966675\n",
            "Epoch-5/10 Iterations-6 loss-0.5380842089653015\n",
            "Epoch-5/10 Iterations-11 loss-0.0600811243057251\n",
            "Epoch-5/10 Iterations-16 loss-0.0666021928191185\n",
            "Epoch-5/10 Iterations-21 loss-3.378587484359741\n",
            "Epoch-5/10 Iterations-26 loss-0.23827189207077026\n",
            "Epoch-5/10 Iterations-31 loss-0.015396039001643658\n",
            "Epoch-5/10 Iterations-36 loss-1.0729146003723145\n",
            "Epoch-5/10 Iterations-41 loss-0.12063392251729965\n",
            "Epoch-5/10 Iterations-46 loss-0.36215075850486755\n",
            "Epoch-5/10 Iterations-51 loss-0.5705753564834595\n",
            "Epoch-5/10 Iterations-56 loss-0.02495585009455681\n",
            "Epoch-5/10 Iterations-61 loss-0.6042695045471191\n",
            "Epoch-5/10 Iterations-66 loss-3.4789912700653076\n",
            "Epoch-5/10 Iterations-71 loss-0.3908904194831848\n",
            "Epoch-5/10 Iterations-76 loss-0.2079537957906723\n",
            "Epoch-5/10 Iterations-81 loss-0.25284817814826965\n",
            "Epoch-5/10 Iterations-86 loss-0.43122121691703796\n",
            "Epoch-5/10 Iterations-91 loss-1.093990683555603\n",
            "Epoch-5/10 Iterations-96 loss-0.26551172137260437\n",
            "Epoch-5/10 Iterations-101 loss-0.08820204436779022\n",
            "Epoch-5/10 Iterations-106 loss-0.09926541894674301\n",
            "Epoch-5/10 Iterations-111 loss-1.570077896118164\n",
            "Epoch-5/10 Iterations-116 loss-0.15333084762096405\n",
            "Epoch-5/10 Iterations-121 loss-0.12047041952610016\n",
            "Epoch-5/10 train_loss-6.193023528635502 Val_loss-23.20992737466639 F1 Score-0.9424083769633508\n",
            "Epoch-6/10 Iterations-1 loss-0.11900496482849121\n",
            "Epoch-6/10 Iterations-6 loss-0.7476633787155151\n",
            "Epoch-6/10 Iterations-11 loss-0.4604968726634979\n",
            "Epoch-6/10 Iterations-16 loss-0.3484790325164795\n",
            "Epoch-6/10 Iterations-21 loss-0.07808147370815277\n",
            "Epoch-6/10 Iterations-26 loss-0.3717646598815918\n",
            "Epoch-6/10 Iterations-31 loss-0.0069653792306780815\n",
            "Epoch-6/10 Iterations-36 loss-0.31417497992515564\n",
            "Epoch-6/10 Iterations-41 loss-0.0033094584941864014\n",
            "Epoch-6/10 Iterations-46 loss-0.004530489444732666\n",
            "Epoch-6/10 Iterations-51 loss-0.07670491933822632\n",
            "Epoch-6/10 Iterations-56 loss-0.005013644695281982\n",
            "Epoch-6/10 Iterations-61 loss-4.268819808959961\n",
            "Epoch-6/10 Iterations-66 loss-0.26491644978523254\n",
            "Epoch-6/10 Iterations-71 loss-0.04226484149694443\n",
            "Epoch-6/10 Iterations-76 loss-0.3999671936035156\n",
            "Epoch-6/10 Iterations-81 loss-0.007800757884979248\n",
            "Epoch-6/10 Iterations-86 loss-0.4236612319946289\n",
            "Epoch-6/10 Iterations-91 loss-1.5004010200500488\n",
            "Epoch-6/10 Iterations-96 loss-0.008336405269801617\n",
            "Epoch-6/10 Iterations-101 loss-0.0018902420997619629\n",
            "Epoch-6/10 Iterations-106 loss-0.00960131548345089\n",
            "Epoch-6/10 Iterations-111 loss-1.5508369207382202\n",
            "Epoch-6/10 Iterations-116 loss-0.0054518780671060085\n",
            "Epoch-6/10 Iterations-121 loss-0.4273342788219452\n",
            "Epoch-6/10 train_loss-3.8961587373074145 Val_loss-24.372203720839355 F1 Score-0.9442282749675746\n",
            "Epoch-7/10 Iterations-1 loss-0.14542482793331146\n",
            "Epoch-7/10 Iterations-6 loss-0.03021286055445671\n",
            "Epoch-7/10 Iterations-11 loss-0.03766874596476555\n",
            "Epoch-7/10 Iterations-16 loss-0.072275310754776\n",
            "Epoch-7/10 Iterations-21 loss-6.186609268188477\n",
            "Epoch-7/10 Iterations-26 loss-0.008258561603724957\n",
            "Epoch-7/10 Iterations-31 loss-0.0025618276558816433\n",
            "Epoch-7/10 Iterations-36 loss-0.5744200944900513\n",
            "Epoch-7/10 Iterations-41 loss-0.5309429168701172\n",
            "Epoch-7/10 Iterations-46 loss-0.4863906502723694\n",
            "Epoch-7/10 Iterations-51 loss-0.21901516616344452\n",
            "Epoch-7/10 Iterations-56 loss-0.011189699172973633\n",
            "Epoch-7/10 Iterations-61 loss-1.6934738159179688\n",
            "Epoch-7/10 Iterations-66 loss-0.4007013738155365\n",
            "Epoch-7/10 Iterations-71 loss-0.010113021358847618\n",
            "Epoch-7/10 Iterations-76 loss-0.0011741718044504523\n",
            "Epoch-7/10 Iterations-81 loss-0.2863549590110779\n",
            "Epoch-7/10 Iterations-86 loss-0.01992730423808098\n",
            "Epoch-7/10 Iterations-91 loss-0.006051202770322561\n",
            "Epoch-7/10 Iterations-96 loss-0.004641632549464703\n",
            "Epoch-7/10 Iterations-101 loss-0.46475327014923096\n",
            "Epoch-7/10 Iterations-106 loss-0.019536256790161133\n",
            "Epoch-7/10 Iterations-111 loss-0.00675364350900054\n",
            "Epoch-7/10 Iterations-116 loss-0.5911632776260376\n",
            "Epoch-7/10 Iterations-121 loss-0.001121819019317627\n",
            "Epoch-7/10 train_loss-4.838117125250632 Val_loss-41.23457152735103 F1 Score-0.9192708333333334\n",
            "Epoch-8/10 Iterations-1 loss-0.0022359690628945827\n",
            "Epoch-8/10 Iterations-6 loss-0.7313737273216248\n",
            "Epoch-8/10 Iterations-11 loss-0.035620372742414474\n",
            "Epoch-8/10 Iterations-16 loss-1.0121959447860718\n",
            "Epoch-8/10 Iterations-21 loss-0.08329277485609055\n",
            "Epoch-8/10 Iterations-26 loss-0.009642164222896099\n",
            "Epoch-8/10 Iterations-31 loss-1.4451828002929688\n",
            "Epoch-8/10 Iterations-36 loss-0.12234707921743393\n",
            "Epoch-8/10 Iterations-41 loss-0.01318387221544981\n",
            "Epoch-8/10 Iterations-46 loss-0.002401630161330104\n",
            "Epoch-8/10 Iterations-51 loss-0.19182121753692627\n",
            "Epoch-8/10 Iterations-56 loss-0.0004165172576904297\n",
            "Epoch-8/10 Iterations-61 loss-0.0010165572166442871\n",
            "Epoch-8/10 Iterations-66 loss-0.4423271119594574\n",
            "Epoch-8/10 Iterations-71 loss-0.12001549452543259\n",
            "Epoch-8/10 Iterations-76 loss-0.0032097301445901394\n",
            "Epoch-8/10 Iterations-81 loss-0.16222083568572998\n",
            "Epoch-8/10 Iterations-86 loss-0.3219454288482666\n",
            "Epoch-8/10 Iterations-91 loss-0.0014649232616648078\n",
            "Epoch-8/10 Iterations-96 loss-0.5330062508583069\n",
            "Epoch-8/10 Iterations-101 loss-0.007249951362609863\n",
            "Epoch-8/10 Iterations-106 loss-0.0014928679447621107\n",
            "Epoch-8/10 Iterations-111 loss-0.27789628505706787\n",
            "Epoch-8/10 Iterations-116 loss-0.6564187407493591\n",
            "Epoch-8/10 Iterations-121 loss-0.0006041328306309879\n",
            "Epoch-8/10 train_loss-3.097146479875781 Val_loss-43.87105425921354 F1 Score-0.9259259259259258\n",
            "Epoch-9/10 Iterations-1 loss-0.009900669567286968\n",
            "Epoch-9/10 Iterations-6 loss-0.018486201763153076\n",
            "Epoch-9/10 Iterations-11 loss-0.0026084582787007093\n",
            "Epoch-9/10 Iterations-16 loss-0.0018884341698139906\n",
            "Epoch-9/10 Iterations-21 loss-0.0061994194984436035\n",
            "Epoch-9/10 Iterations-26 loss-0.16159412264823914\n",
            "Epoch-9/10 Iterations-31 loss-0.0016349753132089972\n",
            "Epoch-9/10 Iterations-36 loss-0.8352038860321045\n",
            "Epoch-9/10 Iterations-41 loss-1.2679513692855835\n",
            "Epoch-9/10 Iterations-46 loss-0.18176603317260742\n",
            "Epoch-9/10 Iterations-51 loss-0.12210731208324432\n",
            "Epoch-9/10 Iterations-56 loss-0.00026991963386535645\n",
            "Epoch-9/10 Iterations-61 loss-0.14997738599777222\n",
            "Epoch-9/10 Iterations-66 loss-0.0001716017723083496\n",
            "Epoch-9/10 Iterations-71 loss-0.0011474689235910773\n",
            "Epoch-9/10 Iterations-76 loss-1.122221827507019\n",
            "Epoch-9/10 Iterations-81 loss-0.0009254416218027472\n",
            "Epoch-9/10 Iterations-86 loss-0.5042942762374878\n",
            "Epoch-9/10 Iterations-91 loss-0.0018849174957722425\n",
            "Epoch-9/10 Iterations-96 loss-0.0008345445385202765\n",
            "Epoch-9/10 Iterations-101 loss-0.001168886898085475\n",
            "Epoch-9/10 Iterations-106 loss-0.00021308660507202148\n",
            "Epoch-9/10 Iterations-111 loss-0.020079027861356735\n",
            "Epoch-9/10 Iterations-116 loss-0.01640724204480648\n",
            "Epoch-9/10 Iterations-121 loss-0.9531211256980896\n",
            "Epoch-9/10 train_loss-2.397846135345753 Val_loss-36.39004627145319 F1 Score-0.9432989690721649\n",
            "Epoch-10/10 Iterations-1 loss-0.23242679238319397\n",
            "Epoch-10/10 Iterations-6 loss-0.017297863960266113\n",
            "Epoch-10/10 Iterations-11 loss-0.0030784010887145996\n",
            "Epoch-10/10 Iterations-16 loss-0.009032627567648888\n",
            "Epoch-10/10 Iterations-21 loss-0.001444101333618164\n",
            "Epoch-10/10 Iterations-26 loss-0.00010120868682861328\n",
            "Epoch-10/10 Iterations-31 loss-0.0006666183471679688\n",
            "Epoch-10/10 Iterations-36 loss-0.0031479597091674805\n",
            "Epoch-10/10 Iterations-41 loss-0.27722057700157166\n",
            "Epoch-10/10 Iterations-46 loss-0.0008593102684244514\n",
            "Epoch-10/10 Iterations-51 loss-0.5413782596588135\n",
            "Epoch-10/10 Iterations-56 loss-0.001237034797668457\n",
            "Epoch-10/10 Iterations-61 loss-0.03992807865142822\n",
            "Epoch-10/10 Iterations-66 loss-0.0009084343910217285\n",
            "Epoch-10/10 Iterations-71 loss-0.0012268226128071547\n",
            "Epoch-10/10 Iterations-76 loss-0.11760994046926498\n",
            "Epoch-10/10 Iterations-81 loss-0.005193948745727539\n",
            "Epoch-10/10 Iterations-86 loss-0.00695808744058013\n",
            "Epoch-10/10 Iterations-91 loss-0.576505720615387\n",
            "Epoch-10/10 Iterations-96 loss-0.010530690662562847\n",
            "Epoch-10/10 Iterations-101 loss-1.6791744232177734\n",
            "Epoch-10/10 Iterations-106 loss-0.00021517276763916016\n",
            "Epoch-10/10 Iterations-111 loss-0.7706236243247986\n",
            "Epoch-10/10 Iterations-116 loss-0.5294905304908752\n",
            "Epoch-10/10 Iterations-121 loss-0.13648897409439087\n",
            "Epoch-10/10 train_loss-1.917569260693621 Val_loss-38.81703370268356 F1 Score-0.9483204134366926\n"
          ],
          "name": "stdout"
        }
      ]
    },
    {
      "cell_type": "code",
      "metadata": {
        "id": "IDEO75HN5vdj"
      },
      "source": [
        "save_path = '/content/drive/MyDrive/MeasEval/scibert_crf_quant_ent_2iter.pt'\n",
        "torch.save(bert_model, save_path)"
      ],
      "execution_count": 37,
      "outputs": []
    },
    {
      "cell_type": "code",
      "metadata": {
        "colab": {
          "base_uri": "https://localhost:8080/"
        },
        "id": "9qSO-EIFoVyf",
        "outputId": "6a6ad374-f1ae-4434-b24f-fb986d26ef07"
      },
      "source": [
        "p=0\n",
        "n=0\n",
        "pos=0\n",
        "neg=0\n",
        "prec_num = 0 \n",
        "prec_den = 0\n",
        "rec_num = 0\n",
        "rec_den = 0 \n",
        "p1 = 0\n",
        "n1=0\n",
        "for seq, mask, y in val_loader:\n",
        "    bert_model.zero_grad()\n",
        "    bert_model.eval()\n",
        "    y_pred = bert_model(seq.long().to(device), mask.long().to(device))\n",
        "    np_out = np.zeros((len(y_pred),256, 1))\n",
        "    np_act = (y.cpu().data.numpy() >= 1).astype(int).reshape((len(y), len(y[0]),1))\n",
        "    \n",
        "    for i in range(np_out.shape[0]):\n",
        "      prev_2 = 0\n",
        "      for j in range(np_out.shape[1]):\n",
        "        for k in range(np_out.shape[2]):\n",
        "          if j >= len(y_pred[i]):\n",
        "            np_out[i][j][k] = 0\n",
        "          elif y_pred[i][j] == 2:\n",
        "            np_out[i][j][k]=1\n",
        "            prev_2 = 1\n",
        "          elif y_pred[i][j] == 1 and prev_2 == 1:\n",
        "            np_out[i][j][k]=1\n",
        "          else:\n",
        "            prev_2 = 0\n",
        "            np_out[i][j][k]=0\n",
        "\n",
        "    for i in range(np_out.shape[0]):\n",
        "      for j in range(np_out.shape[1]):\n",
        "        if np.max(np_out[i,j,:])==1 or np.max(np_act[i,j,:])==1:\n",
        "          if np.max(np_out[i,j,:])==1 and np.max(np_act[i,j,:])==1:\n",
        "            p1 = p1 + 1\n",
        "          else:\n",
        "            n1 = n1 + 1\n",
        "\n",
        "    for i in range(np_out.shape[0]):\n",
        "      for j in range(np_out.shape[1]):\n",
        "        for k in range(np_out.shape[2]):\n",
        "          if np_out[i,j,k] == np_act[i,j,k]:\n",
        "            p = p +1\n",
        "          else:\n",
        "            n=n+1\n",
        "          if (np_out[i,j,k])==1 or (np_act[i,j,k])==1:\n",
        "            if (np_out[i,j,k])==1 and (np_act[i,j,k])==1:\n",
        "              pos = pos + 1\n",
        "            else:\n",
        "              neg = neg + 1\n",
        "          if np_out[i,j,k]==1:\n",
        "            if np_out[i,j,k]==np_act[i,j,k]:\n",
        "              prec_num = prec_num + 1\n",
        "            else:\n",
        "              prec_den = prec_den + 1\n",
        "          if np_act[i,j,k]==1:\n",
        "            if np_out[i,j,k]==np_act[i,j,k]:\n",
        "              rec_num = rec_num + 1\n",
        "            else:\n",
        "              rec_den = rec_den + 1\n",
        "\n",
        "precision = prec_num/(prec_num+prec_den)\n",
        "recall = rec_num/(rec_num+rec_den)\n",
        "F1 = 2*precision*recall/(precision+recall)\n",
        "\n",
        "print(\"Entity recognition modified accuracy:-\" + str(p1/(p1+n1)))\n",
        "print(\"--------NER RESULTS--------\")\n",
        "print(\"Accuracy:-\" + str(p/(n+p)))\n",
        "print(\"Modified Accuracy:-\" + str(pos/(pos+neg)))\n",
        "print(\"Precision:-\" + str(precision))\n",
        "print(\"Recall:-\" + str(recall))\n",
        "print(\"F1 score:-\"+str(F1))"
      ],
      "execution_count": 38,
      "outputs": [
        {
          "output_type": "stream",
          "text": [
            "Entity recognition modified accuracy:-0.9017199017199017\n",
            "--------NER RESULTS--------\n",
            "Accuracy:-0.99875\n",
            "Modified Accuracy:-0.9017199017199017\n",
            "Precision:-0.9362244897959183\n",
            "Recall:-0.9607329842931938\n",
            "F1 score:-0.9483204134366926\n"
          ],
          "name": "stdout"
        }
      ]
    },
    {
      "cell_type": "code",
      "metadata": {
        "id": "Y8JkPxr1sFbM"
      },
      "source": [
        ""
      ],
      "execution_count": 38,
      "outputs": []
    }
  ]
}